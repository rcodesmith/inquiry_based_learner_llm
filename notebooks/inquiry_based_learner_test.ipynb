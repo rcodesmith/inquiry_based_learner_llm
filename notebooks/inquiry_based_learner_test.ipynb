{
 "cells": [
  {
   "cell_type": "markdown",
   "metadata": {},
   "source": [
    "# Inquiry-based Learner Test\n",
    "\n",
    "Test out the full lifecycle of a model 'learning' by playing the part of a hiring manager and asking questions which a candidate answers, then playing the part of the job candidate and answering questions, including questions based on the knowledge the model has learned through the question-answer inquiry."
   ]
  },
  {
   "cell_type": "code",
   "execution_count": 3,
   "metadata": {},
   "outputs": [],
   "source": [
    "from importlib import reload\n",
    "import sys\n",
    "import os\n",
    "\n",
    "new_path = os.path.abspath(os.path.join('..'))\n",
    "if new_path not in sys.path:\n",
    "    sys.path.append(new_path)\n",
    "\n",
    "from genai_wb import claude_api\n",
    "reload(claude_api)\n",
    "\n",
    "from genai_wb import inquiry_based_learner\n",
    "reload(inquiry_based_learner)\n",
    "\n",
    "genai_api = claude_api.GenAI()\n",
    "\n"
   ]
  },
  {
   "cell_type": "code",
   "execution_count": 4,
   "metadata": {},
   "outputs": [],
   "source": [
    "# Resume and job posting we've been working with\n",
    "resume_txt = \"\"\"\n",
    "\n",
    "John Doe\n",
    "Software Engineer\n",
    "\n",
    "Contact Information:\n",
    "Email: john.doe@email.com\n",
    "Phone: (555) 123-4567\n",
    "LinkedIn: linkedin.com/in/johndoe\n",
    "\n",
    "Summary:\n",
    "Dedicated and innovative Software Engineer with 8 years of experience in developing robust web applications and data-driven solutions. Proficient in Python, Pandas, Flask, FastAPI, and PostgreSQL. Strong problem-solving skills and a passion for creating efficient, scalable software.\n",
    "\n",
    "Professional Experience:\n",
    "\n",
    "Senior Software Engineer | TechInnovate Solutions | 2018 - Present\n",
    "• Led the development of a high-traffic e-commerce platform using Python and Flask, resulting in a 30% increase in user engagement\n",
    "• Implemented data analysis pipelines using Pandas, processing over 1 million daily transactions\n",
    "• Designed and maintained RESTful APIs using FastAPI, improving system response times by 40%\n",
    "• Managed a team of 5 junior developers, mentoring them in best practices and agile methodologies\n",
    "\n",
    "Software Engineer | DataDrive Systems | 2015 - 2018\n",
    "• Developed a real-time analytics dashboard using Python and PostgreSQL, providing actionable insights to over 100 enterprise clients\n",
    "• Optimized database queries, reducing report generation time by 60%\n",
    "• Collaborated with cross-functional teams to integrate machine learning models into existing web applications\n",
    "\n",
    "Junior Software Engineer | WebWizards Inc. | 2013 - 2015\n",
    "• Contributed to the development of a content management system using Python and Django\n",
    "• Implemented responsive front-end designs using HTML, CSS, and JavaScript\n",
    "• Participated in code reviews and testing processes, ensuring high-quality deliverables\n",
    "\n",
    "Education:\n",
    "Bachelor of Science in Computer Science | Tech University | 2009 - 2013\n",
    "\n",
    "Technical Skills:\n",
    "• Languages: Python, JavaScript, SQL\n",
    "• Frameworks: Flask, FastAPI, Django\n",
    "• Libraries: Pandas, NumPy, Scikit-learn\n",
    "• Databases: PostgreSQL, MySQL\n",
    "• Tools: Git, Docker, Jenkins, AWS\n",
    "\n",
    "Projects:\n",
    "• CloudStore: Developed a cloud-based inventory management system using Python and FastAPI, integrated with AWS services\n",
    "• DataViz Dashboard: Created an interactive data visualization tool using Pandas and Plotly, showcasing real-time market trends\n",
    "• API Gateway: Designed and implemented a centralized API gateway using Flask, improving microservices communication\n",
    "\n",
    "Certifications:\n",
    "• AWS Certified Developer - Associate\n",
    "• Python Professional Certification\n",
    "\n",
    "Languages:\n",
    "• English (Native)\n",
    "• Spanish (Intermediate)\n",
    "\"\"\"\n",
    "\n",
    "job_posting_txt = \"\"\"\n",
    "Requirements:\n",
    "- At least 3 years Python development experience\n",
    "- Experienced at developing Python web applications using Flask, FastAPI, Django, or similar\n",
    "- Experience working with relational databases, such as PostgreSQL, or SQL Server\n",
    "- Experience writing and optimizing SQL queries\n",
    "\"\"\"\n",
    "\n",
    "# System prompt for manager asking questions of candidate.\n",
    "#\n",
    "learner_system_prompt = f\"\"\"\n",
    "You are an experienced software development manager and interviewer at a company.  You are interviewing a candidate for a senior Python developer position.\n",
    "\n",
    "Following is the candidate's resume, delimitered by three dollar signs:\n",
    "\n",
    "$$$\n",
    "{resume_txt}\n",
    "$$$\n",
    "\n",
    "Following is the job posting for the position the candidate is applying for, delimetered by three dollar signs:\n",
    "\n",
    "$$$\n",
    "{job_posting_txt}\n",
    "$$$\n",
    "\"\"\"\n",
    "\n",
    "GENERATE_QUESTIONS_REQUEST_TXT = \"Please generate 3 good questions based on the candidate's experience, the job posting, and prior answers the candidate has given.\"\n",
    "\n",
    "\n",
    "# System prompt for candidate answering questions based on the resume, and prior question/answers.\n",
    "#\n",
    "interview_system_prompt = f\"\"\"\n",
    "You are a software engineer seeking a new position, who has created web applications, and worked with Python, Pandas, Flask, FastAPI, and PostgreSQL.  You have 8 years experience after graduating from college.\n",
    "\n",
    "You should answer questions about your background truthfully, clearly, and professionally. \n",
    "Your answers should be based on your experience as detailed in your resume and from prior questions you have been asked and your prior answers to those questions.\n",
    "\n",
    "When you respond, don't mention the resume.\n",
    "Your answers should only contain information based on your resume.  If you don't have details for an answer to a question, you can just say you don't know those details\n",
    "\n",
    "Answer questions succinctly, in 1-3 sentences.\n",
    "\n",
    "Following is your resume, delimitered by three dollar signs:\n",
    "$$$\n",
    "{resume_txt}\n",
    "$$$\n",
    "\"\"\"\n",
    "\n"
   ]
  },
  {
   "cell_type": "code",
   "execution_count": 5,
   "metadata": {},
   "outputs": [],
   "source": [
    "inq_learner = inquiry_based_learner.InquiryBasedLearner(genai_api, learner_system_prompt, interview_system_prompt)"
   ]
  },
  {
   "cell_type": "code",
   "execution_count": 7,
   "metadata": {},
   "outputs": [
    {
     "data": {
      "text/plain": [
       "{'questions': [{'question': 'Can you describe a challenging database optimization problem you encountered in your experience at DataDrive Systems and how you solved it?',\n",
       "   'reasoning': \"The candidate's resume mentions optimizing database queries at DataDrive Systems, reducing report generation time by 60%. This question allows the candidate to demonstrate their problem-solving skills and database optimization experience, which are relevant to the job requirements.\"},\n",
       "  {'question': \"How have you used Pandas for data analysis in your projects, and can you give an example of a complex data manipulation task you've performed?\",\n",
       "   'reasoning': \"The candidate's resume highlights experience with Pandas and implementing data analysis pipelines. This question allows the candidate to showcase their practical experience with Pandas, which is a valuable skill for a Python developer working with data-driven applications.\"},\n",
       "  {'question': \"Can you explain how you've used FastAPI to design and maintain RESTful APIs, and what advantages it offered over other frameworks you've worked with?\",\n",
       "   'reasoning': \"The job posting requires experience with web application frameworks like FastAPI, and the candidate's resume mentions improving system response times using FastAPI. This question allows the candidate to demonstrate their knowledge of FastAPI and their ability to compare different web frameworks.\"}]}"
      ]
     },
     "execution_count": 7,
     "metadata": {},
     "output_type": "execute_result"
    }
   ],
   "source": [
    "# Have the learner model generate some questions, which we'll then answer\n",
    "#\n",
    "inq_learner.learning_generate_questions(GENERATE_QUESTIONS_REQUEST_TXT)"
   ]
  },
  {
   "cell_type": "code",
   "execution_count": 8,
   "metadata": {},
   "outputs": [],
   "source": [
    "# Answer questions - Note question might be slightly different than above questions due to randomization\n",
    "\n",
    "inq_learner.learning_answer_question('Can you describe a specific project where you optimized database queries using PostgreSQL, and what techniques did you employ to achieve the 60% reduction in report generation time you mentioned?',\n",
    "                                     \"\"\"I optimized the database queries at DataDrive Systems.  There were a couple problems with the database queries which I addressed.\n",
    "One was that the system had a N+1 database query problem, where it was issuing separate SELECT queries for each item in a list,\n",
    "where it could have performed a single SELECT query to retrieve the details for all of the items in one roundtrip.  I updated the application\n",
    "code to fetch the data as a single query, which had a huge impact.\n",
    "Another problem is that the SELECT query was joining to another table that han a 1-N relationship with the primary table, and the child table did not have an index for the foreign key,\n",
    "causing a full table scan of the child table.  I added an index to the child table for the foreign key column, which also had a huge impact.\n",
    "\"\"\")"
   ]
  },
  {
   "cell_type": "code",
   "execution_count": 9,
   "metadata": {},
   "outputs": [
    {
     "data": {
      "text/plain": [
       "\"At DataDrive Systems, I optimized database queries to significantly reduce report generation time. I addressed two main issues: First, I resolved an N+1 query problem by updating the application code to fetch data in a single query instead of multiple separate SELECT statements. Second, I added an index to a child table's foreign key column, which eliminated a full table scan issue. These optimizations collectively resulted in a 60% reduction in report generation time, greatly improving system performance.\""
      ]
     },
     "execution_count": 9,
     "metadata": {},
     "output_type": "execute_result"
    }
   ],
   "source": [
    "# Now have the interviewee model answer a question that depends on the answer from the learning session\n",
    "#\n",
    "inq_learner.interview_answer_question(\"Tell me about the database query optimizations you did at DataDrive Systems.\",\n",
    "                                      temperature=0.0)"
   ]
  },
  {
   "cell_type": "code",
   "execution_count": 10,
   "metadata": {},
   "outputs": [
    {
     "name": "stdout",
     "output_type": "stream",
     "text": [
      "\n",
      "You are a software engineer seeking a new position, who has created web applications, and worked with Python, Pandas, Flask, FastAPI, and PostgreSQL.  You have 8 years experience after graduating from college.\n",
      "\n",
      "You should answer questions about your background truthfully, clearly, and professionally. \n",
      "Your answers should be based on your experience as detailed in your resume and from prior questions you have been asked and your prior answers to those questions.\n",
      "\n",
      "When you respond, don't mention the resume.  If you don't have details for an answer to a question, you can just say you don't know those details\n",
      "\n",
      "Answer questions succinctly, in 1-3 sentences.\n",
      "\n",
      "Following is your resume, delimitered by three dollar signs:\n",
      "$$$\n",
      "\n",
      "\n",
      "John Doe\n",
      "Software Engineer\n",
      "\n",
      "Contact Information:\n",
      "Email: john.doe@email.com\n",
      "Phone: (555) 123-4567\n",
      "LinkedIn: linkedin.com/in/johndoe\n",
      "\n",
      "Summary:\n",
      "Dedicated and innovative Software Engineer with 8 years of experience in developing robust web applications and data-driven solutions. Proficient in Python, Pandas, Flask, FastAPI, and PostgreSQL. Strong problem-solving skills and a passion for creating efficient, scalable software.\n",
      "\n",
      "Professional Experience:\n",
      "\n",
      "Senior Software Engineer | TechInnovate Solutions | 2018 - Present\n",
      "• Led the development of a high-traffic e-commerce platform using Python and Flask, resulting in a 30% increase in user engagement\n",
      "• Implemented data analysis pipelines using Pandas, processing over 1 million daily transactions\n",
      "• Designed and maintained RESTful APIs using FastAPI, improving system response times by 40%\n",
      "• Managed a team of 5 junior developers, mentoring them in best practices and agile methodologies\n",
      "\n",
      "Software Engineer | DataDrive Systems | 2015 - 2018\n",
      "• Developed a real-time analytics dashboard using Python and PostgreSQL, providing actionable insights to over 100 enterprise clients\n",
      "• Optimized database queries, reducing report generation time by 60%\n",
      "• Collaborated with cross-functional teams to integrate machine learning models into existing web applications\n",
      "\n",
      "Junior Software Engineer | WebWizards Inc. | 2013 - 2015\n",
      "• Contributed to the development of a content management system using Python and Django\n",
      "• Implemented responsive front-end designs using HTML, CSS, and JavaScript\n",
      "• Participated in code reviews and testing processes, ensuring high-quality deliverables\n",
      "\n",
      "Education:\n",
      "Bachelor of Science in Computer Science | Tech University | 2009 - 2013\n",
      "\n",
      "Technical Skills:\n",
      "• Languages: Python, JavaScript, SQL\n",
      "• Frameworks: Flask, FastAPI, Django\n",
      "• Libraries: Pandas, NumPy, Scikit-learn\n",
      "• Databases: PostgreSQL, MySQL\n",
      "• Tools: Git, Docker, Jenkins, AWS\n",
      "\n",
      "Projects:\n",
      "• CloudStore: Developed a cloud-based inventory management system using Python and FastAPI, integrated with AWS services\n",
      "• DataViz Dashboard: Created an interactive data visualization tool using Pandas and Plotly, showcasing real-time market trends\n",
      "• API Gateway: Designed and implemented a centralized API gateway using Flask, improving microservices communication\n",
      "\n",
      "Certifications:\n",
      "• AWS Certified Developer - Associate\n",
      "• Python Professional Certification\n",
      "\n",
      "Languages:\n",
      "• English (Native)\n",
      "• Spanish (Intermediate)\n",
      "\n",
      "$$$\n",
      "\n",
      "\n",
      "Following are prior questions you have been asked, and answers you gave in JSON format, delimetered by three dollar signs:\n",
      "$$$\n",
      "[{\"question\": \"Can you describe a specific project where you optimized database queries using PostgreSQL, and what techniques did you employ to achieve the 60% reduction in report generation time you mentioned?\", \"answer\": \"I optimized the database queries at DataDrive Systems.  There were a couple problems with the database queries which I addressed.\\nOne was that the system had a N+1 database query problem, where it was issuing separate SELECT queries for each item in a list,\\nwhere it could have performed a single SELECT query to retrieve the details for all of the items in one roundtrip.  I updated the application\\ncode to fetch the data as a single query, which had a huge impact.\\nAnother problem is that the SELECT query was joining to another table that han a 1-N relationship with the primary table, and the child table did not have an index for the foreign key,\\ncausing a full table scan of the child table.  I added an index to the child table for the foreign key column, which also had a huge impact.\\n\"}]\n",
      "$$$\n",
      "\n"
     ]
    }
   ],
   "source": [
    "# Let's look at the system prompt that the interviewee model uses.\n",
    "# This is essentially the knowledge base for the interviewee.  Note that it includes\n",
    "# the answer we gave during the learning session.\n",
    "#\n",
    "print(inq_learner.interview_conversation.system_prompt)"
   ]
  },
  {
   "cell_type": "code",
   "execution_count": 11,
   "metadata": {},
   "outputs": [],
   "source": [
    "# Let's answer a couple more questions in learning mode.\n",
    "#\n",
    "inq_learner.learning_answer_question(\"You've worked with Flask and FastAPI. Can you compare and contrast these frameworks, and explain a scenario where you would choose one over the other?\",\n",
    "                                     \"\"\"Flask has been around longer so has a larger user base, more documentation, and more plugins.  FastAPI is also very popular and has a broad user base, but Flask is larger.\n",
    "                                     FastAPI is newer and is tailored for developing APIs quickly, and has significantly better performance than Flask.\n",
    "                                     \n",
    "                                     Another difference is that Flask is based on Starlette, Pydantic, and ASGI, and asynchronous at the core, while Flask is synchronous and uses WSGI.\"\"\")"
   ]
  },
  {
   "cell_type": "code",
   "execution_count": 12,
   "metadata": {},
   "outputs": [],
   "source": [
    "inq_learner.learning_answer_question(\"Your resume mentions leading a team of junior developers. How do you ensure code quality and adherence to best practices when working with less experienced team members?\",\n",
    "                                     \"\"\"Ensuring code quality and adherence to best practices involves several strategies, first off building a culture of continually striving for better quality, improvement, and learning.\n",
    "                                     This requires mentoring, and insistence of prioritizing quality and best practices.\n",
    "                                     As part of this, we verify via code reviews, and automated testing.\n",
    "                                     Another strategy is to release regularly and often.  This helps to catch issues early, close to when they were introduced.\"\"\")"
   ]
  },
  {
   "cell_type": "code",
   "execution_count": 15,
   "metadata": {},
   "outputs": [
    {
     "data": {
      "text/plain": [
       "'Based on my experience, I recommend several key software development practices. First, implementing a robust code review process is crucial for maintaining quality and knowledge sharing. Second, adopting test-driven development (TDD) helps ensure code reliability and makes refactoring easier. Lastly, I strongly advocate for continuous integration and deployment (CI/CD) practices, which allow for faster, more frequent releases and early bug detection. These practices have consistently improved code quality and team productivity in my projects.'"
      ]
     },
     "execution_count": 15,
     "metadata": {},
     "output_type": "execute_result"
    }
   ],
   "source": [
    "inq_learner.interview_answer_question(\"What are some software development practices you recommend?\",\n",
    "                                      temperature=0.0)"
   ]
  },
  {
   "cell_type": "code",
   "execution_count": 16,
   "metadata": {},
   "outputs": [
    {
     "data": {
      "text/plain": [
       "{'questions': [{'question': 'You mentioned implementing data analysis pipelines using Pandas. Can you walk me through the architecture of one of these pipelines and explain how you ensured its scalability and efficiency?',\n",
       "   'reasoning': \"This question delves deeper into the candidate's experience with data processing and Pandas, which is relevant to the job requirements. It also allows the candidate to demonstrate their understanding of system architecture and performance optimization.\"},\n",
       "  {'question': \"In your role as a Senior Software Engineer, how did you approach mentoring junior developers? Can you provide an example of a successful mentoring experience and its impact on the team's performance?\",\n",
       "   'reasoning': \"The candidate's resume indicates experience in managing and mentoring a team of junior developers. This question explores their leadership and communication skills, which are important for a senior role, even if not explicitly mentioned in the job posting.\"},\n",
       "  {'question': 'Your resume mentions experience with both Flask and FastAPI. Can you compare and contrast these two frameworks? In what scenarios would you choose one over the other?',\n",
       "   'reasoning': 'This question allows the candidate to demonstrate their in-depth knowledge of Python web frameworks, which is a key requirement in the job posting. It also gives insight into their decision-making process when selecting technologies for a project.'}]}"
      ]
     },
     "execution_count": 16,
     "metadata": {},
     "output_type": "execute_result"
    }
   ],
   "source": [
    "# The response mentions some practices that I didn't mention specifically in the learning Q/A,\n",
    "# such as CI/CD.  I did mention releasing regularly and ofter, which is related to CI/CD.  So it\n",
    "# could be that the model inferred CI/CD from my answer, or it could be that the model is falling\n",
    "# back to a general answer about software development practices because it doesn't have a specific\n",
    "# answer in the knowledge base.\n",
    "\n",
    "# Let's see what the next batch of questions the learning model generates.\n",
    "#\n",
    "inq_learner.learning_generate_questions(GENERATE_QUESTIONS_REQUEST_TXT)"
   ]
  },
  {
   "cell_type": "code",
   "execution_count": null,
   "metadata": {},
   "outputs": [],
   "source": []
  }
 ],
 "metadata": {
  "kernelspec": {
   "display_name": "Python 3 (ipykernel)",
   "language": "python",
   "name": "python3"
  },
  "language_info": {
   "codemirror_mode": {
    "name": "ipython",
    "version": 3
   },
   "file_extension": ".py",
   "mimetype": "text/x-python",
   "name": "python",
   "nbconvert_exporter": "python",
   "pygments_lexer": "ipython3",
   "version": "3.11.3"
  }
 },
 "nbformat": 4,
 "nbformat_minor": 2
}
