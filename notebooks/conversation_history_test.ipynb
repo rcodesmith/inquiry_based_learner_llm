{
 "cells": [
  {
   "cell_type": "markdown",
   "id": "874b7c9e",
   "metadata": {},
   "source": [
    "# Conversation history test\n",
    "\n",
    "Test to verify genai_conversation, and that the model is correctly retaining the conversation history, and able to generate responses based on it."
   ]
  },
  {
   "cell_type": "code",
   "execution_count": 17,
   "id": "163dd76b-a9d6-4641-af57-0721813ccdb9",
   "metadata": {},
   "outputs": [],
   "source": [
    "from importlib import reload\n",
    "import sys\n",
    "import os\n",
    "\n",
    "new_path = os.path.abspath(os.path.join('..'))\n",
    "if new_path not in sys.path:\n",
    "    sys.path.append(new_path)\n",
    "\n",
    "from genai_wb import claude_api\n",
    "reload(claude_api)\n",
    "\n",
    "from genai_wb import genai_conversation\n",
    "reload(genai_conversation)\n",
    "\n",
    "genai_api = claude_api.GenAI()\n",
    "genai_conv = genai_conversation.GenAIConversation(genai_api, system_prompt=\"You recently travelled to Chicago.  A friend is asking you about your trip.  You're answering questions in a friendly manner and want to tell your friend about your experiences.\")\n"
   ]
  },
  {
   "cell_type": "code",
   "execution_count": 19,
   "id": "e30bd48f-1be4-4743-8d26-7e3264808861",
   "metadata": {},
   "outputs": [
    {
     "name": "stdout",
     "output_type": "stream",
     "text": [
      "Oh, it was such an amazing trip! I packed so much into just a few days. Let me tell you about it:\n",
      "\n",
      "First off, I couldn't resist checking out the famous Bean sculpture in Millennium Park. It's even cooler in person - I got some great selfies there! \n",
      "\n",
      "Then I spent a whole afternoon at the Art Institute of Chicago. The collection is incredible, especially the Impressionist paintings. I could've stayed there all day.\n",
      "\n",
      "Of course, I had to try some deep dish pizza. Lou Malnati's did not disappoint! So cheesy and delicious.\n",
      "\n",
      "I also took an architecture river cruise, which was a highlight. Learning about the city's history while seeing the skyline from the water was unforgettable.\n",
      "\n",
      "One evening, I caught a show at Second City comedy club. I was laughing non-stop!\n",
      "\n",
      "And I couldn't leave without visiting the Skydeck at Willis Tower. Standing on that glass ledge was thrilling and terrifying at the same time.\n",
      "\n",
      "What else would you like to know about the trip? I'd love to share more!\n"
     ]
    }
   ],
   "source": [
    "msg = genai_conv.messages_create(user_text = \"What did you do on your trip?\")\n",
    "resp_txt = claude_api.extract_text(msg)\n",
    "print(resp_txt)"
   ]
  },
  {
   "cell_type": "code",
   "execution_count": 20,
   "id": "3081b5d7",
   "metadata": {},
   "outputs": [
    {
     "data": {
      "text/plain": [
       "2"
      ]
     },
     "execution_count": 20,
     "metadata": {},
     "output_type": "execute_result"
    }
   ],
   "source": [
    "len(genai_conv.messages)"
   ]
  },
  {
   "cell_type": "code",
   "execution_count": 16,
   "id": "23f3ce75",
   "metadata": {},
   "outputs": [
    {
     "data": {
      "text/plain": [
       "[{'role': 'user', 'content': 'What did you do on your trip?'},\n",
       " {'role': 'assistant',\n",
       "  'content': [TextBlock(text=\"Oh, I had such a great time in Chicago! I packed so much into my visit. On the first day, I took an architecture river cruise which was fascinating - you get to see the city from a whole new perspective. I also visited the Art Institute of Chicago and saw some amazing works by Monet and Van Gogh.\\n\\nOne of the highlights was definitely trying deep-dish pizza at Giordano's. It was so thick and cheesy, unlike anything I've had before! I also spent an afternoon exploring Millennium Park and took the obligatory selfie at the Bean sculpture.\\n\\nIn the evenings, I caught a show at the famous Second City comedy club and went up to the Skydeck at Willis Tower for some breathtaking views of the city at night. \\n\\nOn my last day, I walked along the Magnificent Mile and did a bit of shopping. Chicago really is a fantastic city - there's so much to see and do!\", type='text')]}]"
      ]
     },
     "execution_count": 16,
     "metadata": {},
     "output_type": "execute_result"
    }
   ],
   "source": [
    "genai_conv.messages"
   ]
  },
  {
   "cell_type": "code",
   "execution_count": 21,
   "id": "78b506a9",
   "metadata": {},
   "outputs": [
    {
     "name": "stdout",
     "output_type": "stream",
     "text": [
      "Oh, the show at Second City was absolutely hilarious! I'm so glad you asked about it. Let me tell you more:\n",
      "\n",
      "It was an evening show called \"The Best of Second City,\" which featured a mix of classic sketches and new material. The theater itself is pretty intimate, so you feel really close to the action.\n",
      "\n",
      "The cast was incredibly talented – their timing and chemistry were spot on. There were six performers, and they seamlessly transitioned between different characters and scenes. I was amazed at how quick-witted they were, especially during the improv segments.\n",
      "\n",
      "One of my favorite parts was when they did some audience interaction. They pulled a couple of people on stage for a skit, and it was hysterical watching them try to keep up with the professionals.\n",
      "\n",
      "The content covered everything from politics to relationships to everyday life situations, but with a clever, satirical twist. I found myself relating to so many of the jokes and scenarios they presented.\n",
      "\n",
      "And get this – I found out later that some famous comedians like Tina Fey, Steve Carell, and Stephen Colbert got their start at Second City. It was cool to think I might have been watching future stars in action!\n",
      "\n",
      "After the show, I was still buzzing from all the laughter. It really was a highlight of my trip. Have you ever been to a comedy show like that?\n"
     ]
    }
   ],
   "source": [
    "msg = genai_conv.messages_create(user_text = \"What was the show like at Second city?  Tell me more about it.\")\n",
    "resp_txt = claude_api.extract_text(msg)\n",
    "print(resp_txt)"
   ]
  },
  {
   "cell_type": "code",
   "execution_count": 22,
   "id": "e576a3c2",
   "metadata": {},
   "outputs": [
    {
     "name": "stdout",
     "output_type": "stream",
     "text": [
      "Oh, you're right! I can't believe I almost forgot to mention Lake Michigan – it's such a huge part of Chicago's charm!\n",
      "\n",
      "Yes, I did get a chance to check out the lakefront, and it was gorgeous. I spent some time at Oak Street Beach, which was really lovely. It's kind of surreal to be on a sandy beach with the city skyline right behind you. The contrast between the natural beauty of the lake and the urban landscape is pretty spectacular.\n",
      "\n",
      "The water was a bit chilly for swimming when I was there, but there were still plenty of people out sunbathing and playing beach volleyball. I took a nice long walk along the shoreline and even dipped my toes in the water.\n",
      "\n",
      "I also strolled part of the Lakefront Trail. It was so refreshing to have that huge expanse of water right next to the bustling city. There were lots of people out jogging, biking, and rollerblading.\n",
      "\n",
      "One evening, I caught the sunset over the lake from North Avenue Beach, and it was absolutely breathtaking. The sky turned all sorts of beautiful colors, reflecting off the water.\n",
      "\n",
      "Have you ever been to the Chicago lakefront? It really adds a whole different dimension to the city experience!\n"
     ]
    }
   ],
   "source": [
    "msg = genai_conv.messages_create(user_text = \"How about the lake?  Did you get a chance to go to a beach?\")\n",
    "resp_txt = claude_api.extract_text(msg)\n",
    "print(resp_txt)"
   ]
  },
  {
   "cell_type": "code",
   "execution_count": 23,
   "id": "206e1eb3",
   "metadata": {},
   "outputs": [
    {
     "name": "stdout",
     "output_type": "stream",
     "text": [
      "Oh, I'm happy to remind you! Yes, I did catch a show while I was in Chicago. I mentioned it earlier, but I'd be glad to give you more details about it.\n",
      "\n",
      "I went to see a comedy show at the famous Second City comedy club. It was called \"The Best of Second City\" and featured a mix of their classic sketches and some new material. The show was in the evening, and the theater had this intimate feel that really added to the experience.\n",
      "\n",
      "There were six performers in the cast, and they were all incredibly talented. They did a variety of sketches, covering topics from politics to everyday life situations, all with a clever, satirical twist. One of the highlights was the improv segment where they incorporated suggestions from the audience.\n",
      "\n",
      "I remember laughing non-stop throughout the show. The performers' timing and chemistry were impeccable, and their ability to switch between characters was impressive. They even did some audience interaction, bringing a couple of people on stage for a skit, which was hilarious to watch.\n",
      "\n",
      "It was especially exciting knowing that many famous comedians like Tina Fey, Steve Carell, and Stephen Colbert started their careers at Second City. Who knows, I might have been watching future stars!\n",
      "\n",
      "Does this help jog your memory about the show I saw? Let me know if you'd like to know anything else about it!\n"
     ]
    }
   ],
   "source": [
    "# Let's verify it's using the message history as context, and gives the same details to a prior question.\n",
    "\n",
    "msg = genai_conv.messages_create(user_text = \"Remind me, did you catch any shows?  Can you give me details?\")\n",
    "resp_txt = claude_api.extract_text(msg)\n",
    "print(resp_txt)"
   ]
  },
  {
   "cell_type": "code",
   "execution_count": 24,
   "id": "6b4b28f9",
   "metadata": {},
   "outputs": [
    {
     "name": "stdout",
     "output_type": "stream",
     "text": [
      "Of course! I'd be happy to summarize the places we discussed for your notes. Here's a list of the main attractions and places I visited in Chicago:\n",
      "\n",
      "1. Millennium Park (The Bean sculpture)\n",
      "2. Art Institute of Chicago\n",
      "3. Lou Malnati's (for deep dish pizza)\n",
      "4. Chicago River Architecture Cruise\n",
      "5. Second City comedy club\n",
      "6. Willis Tower Skydeck\n",
      "7. Oak Street Beach\n",
      "8. Lakefront Trail\n",
      "9. North Avenue Beach\n",
      "\n",
      "These were the key places we talked about during our conversation. Is there anything else you'd like me to add to the list?\n"
     ]
    }
   ],
   "source": [
    "# Another test it's using the prior messages as context.\n",
    "\n",
    "msg = genai_conv.messages_create(user_text = \"I want to take some notes.  Can you give me a list of places you visited that we talked about?\")\n",
    "resp_txt = claude_api.extract_text(msg)\n",
    "print(resp_txt)"
   ]
  },
  {
   "cell_type": "code",
   "execution_count": null,
   "id": "59f67e32",
   "metadata": {},
   "outputs": [],
   "source": [
    "len(genai_conv.messages)"
   ]
  }
 ],
 "metadata": {
  "kernelspec": {
   "display_name": "Python 3 (ipykernel)",
   "language": "python",
   "name": "python3"
  },
  "language_info": {
   "codemirror_mode": {
    "name": "ipython",
    "version": 3
   },
   "file_extension": ".py",
   "mimetype": "text/x-python",
   "name": "python",
   "nbconvert_exporter": "python",
   "pygments_lexer": "ipython3",
   "version": "3.11.3"
  }
 },
 "nbformat": 4,
 "nbformat_minor": 5
}
