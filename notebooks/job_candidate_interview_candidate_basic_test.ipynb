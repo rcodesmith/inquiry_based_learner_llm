{
 "cells": [
  {
   "cell_type": "markdown",
   "metadata": {},
   "source": [
    "# Interacting with Claude API"
   ]
  },
  {
   "cell_type": "code",
   "execution_count": 2,
   "metadata": {},
   "outputs": [],
   "source": [
    "from importlib import reload\n",
    "import sys\n",
    "import os\n",
    "\n",
    "new_path = os.path.abspath(os.path.join('..'))\n",
    "if new_path not in sys.path:\n",
    "    sys.path.append(new_path)\n",
    "\n",
    "from genai_wb import claude_api\n",
    "reload(claude_api)\n",
    "\n",
    "# from src import learning_dialog\n",
    "# reload(learning_dialog)\n",
    "\n",
    "genai_api = claude_api.GenAI()\n"
   ]
  },
  {
   "cell_type": "code",
   "execution_count": 8,
   "metadata": {},
   "outputs": [],
   "source": [
    "system_prompt = \"You are an experienced resume writer with experience writing resumes for software engineers.\"\n",
    "prompt = \"Please create a resume for me. I am a software engineer who has created web applications, and worked with Python, Pandas, Flask, FastAPI, and PostgreSQL.  I have 8 years experience after graduating from college.  Please fill in fictitious company names, and project details.\"\n"
   ]
  },
  {
   "cell_type": "code",
   "execution_count": 4,
   "metadata": {},
   "outputs": [
    {
     "name": "stdout",
     "output_type": "stream",
     "text": [
      "Message(id='msg_01ALe9kd3e6zzUN9VcGh7m8d', content=[TextBlock(text=\"Here's a sample resume for you based on the information provided:\\n\\nJOHN DOE\\nSoftware Engineer\\nemail@example.com | (555) 123-4567 | San Francisco, CA | LinkedIn: linkedin.com/in/johndoe\\n\\nSUMMARY\\nExperienced Software Engineer with 8 years of expertise in developing web applications, data analysis, and backend systems. Proficient in Python, Pandas, Flask, FastAPI, and PostgreSQL. Strong problem-solving skills and a track record of delivering high-quality, scalable solutions.\\n\\nEXPERIENCE\\n\\nSenior Software Engineer | TechInnovate Solutions | June 2018 - Present\\n• Led the development of a high-performance web application using Flask and PostgreSQL, resulting in a 40% increase in user engagement\\n• Implemented data analysis pipelines using Python and Pandas, processing over 1 million records daily\\n• Mentored junior developers and conducted code reviews, improving team productivity by 25%\\n\\nSoftware Engineer | DataDrive Systems | July 2015 - May 2018\\n• Developed RESTful APIs using FastAPI, improving system response times by 30%\\n• Created and maintained PostgreSQL databases, optimizing queries for enhanced performance\\n• Collaborated with cross-functional teams to deliver projects on time and within budget\\n\\nJunior Software Engineer | WebCraft Technologies | June 2013 - June 2015\\n• Assisted in the development of web applications using Python and Flask\\n• Implemented unit tests, increasing code coverage by 40%\\n• Participated in Agile development processes, including daily stand-ups and sprint planning\\n\\nPROJECTS\\n\\nData Visualization Dashboard\\n• Developed a responsive web dashboard using Flask and D3.js to visualize complex datasets\\n• Implemented data processing scripts using Pandas to clean and prepare data for visualization\\n\\nAPI Gateway Service\\n• Created a centralized API gateway using FastAPI to manage microservices communication\\n• Implemented authentication and rate limiting features, enhancing system security\\n\\nSKILLS\\n\\nProgramming Languages: Python, JavaScript, SQL\\nFrameworks & Libraries: Flask, FastAPI, Pandas, NumPy, SQLAlchemy\\nDatabases: PostgreSQL, MySQL\\nTools & Platforms: Git, Docker, AWS, Jupyter Notebooks\\nMethodologies: Agile, Scrum, Test-Driven Development\\n\\nEDUCATION\\n\\nBachelor of Science in Computer Science\\nUniversity of Technology, Graduated: May 2013\\n\\nCERTIFICATIONS\\n\\n• AWS Certified Developer - Associate\\n• Python Data Science Specialization - Coursera\\n\\nThis resume highlights your experience as a software engineer, emphasizing your skills in web application development, Python programming, and working with databases. It includes fictitious company names and project details as requested. You can further customize this template by adding specific achievements, metrics, or additional relevant information about your experience and skills.\", type='text')], model='claude-3-5-sonnet-20240620', role='assistant', stop_reason='end_turn', stop_sequence=None, type='message', usage=Usage(input_tokens=83, output_tokens=613))\n"
     ]
    }
   ],
   "source": [
    "message = genai_api.messages_create(system_prompt, user_message = prompt)\n",
    "resume_txt = claude_api.extract_text(message)\n",
    "print(resume_txt)"
   ]
  },
  {
   "cell_type": "code",
   "execution_count": 7,
   "metadata": {},
   "outputs": [
    {
     "name": "stdout",
     "output_type": "stream",
     "text": [
      "Here's a sample resume for you based on the information provided:\n",
      "\n",
      "JOHN DOE\n",
      "Software Engineer\n",
      "email@example.com | (555) 123-4567 | San Francisco, CA | LinkedIn: linkedin.com/in/johndoe\n",
      "\n",
      "SUMMARY\n",
      "Experienced Software Engineer with 8 years of expertise in developing web applications, data analysis, and backend systems. Proficient in Python, Pandas, Flask, FastAPI, and PostgreSQL. Strong problem-solving skills and a track record of delivering high-quality, scalable solutions.\n",
      "\n",
      "EXPERIENCE\n",
      "\n",
      "Senior Software Engineer | TechInnovate Solutions | June 2018 - Present\n",
      "• Led the development of a high-performance web application using Flask and PostgreSQL, resulting in a 40% increase in user engagement\n",
      "• Implemented data analysis pipelines using Python and Pandas, processing over 1 million records daily\n",
      "• Mentored junior developers and conducted code reviews, improving team productivity by 25%\n",
      "\n",
      "Software Engineer | DataDrive Systems | July 2015 - May 2018\n",
      "• Developed RESTful APIs using FastAPI, improving system response times by 30%\n",
      "• Created and maintained PostgreSQL databases, optimizing queries for enhanced performance\n",
      "• Collaborated with cross-functional teams to deliver projects on time and within budget\n",
      "\n",
      "Junior Software Engineer | WebCraft Technologies | June 2013 - June 2015\n",
      "• Assisted in the development of web applications using Python and Flask\n",
      "• Implemented unit tests, increasing code coverage by 40%\n",
      "• Participated in Agile development processes, including daily stand-ups and sprint planning\n",
      "\n",
      "PROJECTS\n",
      "\n",
      "Data Visualization Dashboard\n",
      "• Developed a responsive web dashboard using Flask and D3.js to visualize complex datasets\n",
      "• Implemented data processing scripts using Pandas to clean and prepare data for visualization\n",
      "\n",
      "API Gateway Service\n",
      "• Created a centralized API gateway using FastAPI to manage microservices communication\n",
      "• Implemented authentication and rate limiting features, enhancing system security\n",
      "\n",
      "SKILLS\n",
      "\n",
      "Programming Languages: Python, JavaScript, SQL\n",
      "Frameworks & Libraries: Flask, FastAPI, Pandas, NumPy, SQLAlchemy\n",
      "Databases: PostgreSQL, MySQL\n",
      "Tools & Platforms: Git, Docker, AWS, Jupyter Notebooks\n",
      "Methodologies: Agile, Scrum, Test-Driven Development\n",
      "\n",
      "EDUCATION\n",
      "\n",
      "Bachelor of Science in Computer Science\n",
      "University of Technology, Graduated: May 2013\n",
      "\n",
      "CERTIFICATIONS\n",
      "\n",
      "• AWS Certified Developer - Associate\n",
      "• Python Data Science Specialization - Coursera\n",
      "\n",
      "This resume highlights your experience as a software engineer, emphasizing your skills in web application development, Python programming, and working with databases. It includes fictitious company names and project details as requested. You can further customize this template by adding specific achievements, metrics, or additional relevant information about your experience and skills.\n"
     ]
    }
   ],
   "source": []
  },
  {
   "cell_type": "code",
   "execution_count": 9,
   "metadata": {},
   "outputs": [],
   "source": [
    "# That's good, but let's prompt to have the model return the resume content separate from the explanatory text.\n",
    "\n",
    "request_txt = \"\"\"Please create a resume for me.  I'm a software engineer who has created web applications, and worked with Python, Pandas, Flask, FastAPI, and PostgreSQL.\n",
    "I have 8 years experience after graduating from college.  Please fill in fictitious company names, and project details.\n",
    "\"\"\"\n",
    "\n",
    "json_format = \"\"\"{\n",
    "  \"resume\": \"string\",\n",
    "  \"explanatory_text\": \"string\"\n",
    "}\"\"\"\n",
    "\n",
    "user_prompt_txt = f\"\"\"\n",
    "Please respond to the following prompt and format your response as a JSON object with the structure provided below:\n",
    "\n",
    "Prompt: {prompt}\n",
    "\n",
    "JSON Structure: {json_format}\n",
    "\n",
    "Ensure your response is a valid JSON object that can be parsed. Do not include any explanatory text outside the JSON structure.\"\"\"\n"
   ]
  },
  {
   "cell_type": "code",
   "execution_count": 10,
   "metadata": {},
   "outputs": [
    {
     "name": "stdout",
     "output_type": "stream",
     "text": [
      "{'resume': 'John Doe\\nSoftware Engineer\\n\\nContact Information:\\nEmail: john.doe@email.com\\nPhone: (555) 123-4567\\nLinkedIn: linkedin.com/in/johndoe\\n\\nSummary:\\nDedicated and innovative Software Engineer with 8 years of experience in developing robust web applications and data-driven solutions. Proficient in Python, Pandas, Flask, FastAPI, and PostgreSQL. Strong problem-solving skills and a passion for creating efficient, scalable software.\\n\\nProfessional Experience:\\n\\nSenior Software Engineer | TechInnovate Solutions | 2018 - Present\\n• Led the development of a high-traffic e-commerce platform using Python and Flask, resulting in a 30% increase in user engagement\\n• Implemented data analysis pipelines using Pandas, processing over 1 million daily transactions\\n• Designed and maintained RESTful APIs using FastAPI, improving system response times by 40%\\n• Managed a team of 5 junior developers, mentoring them in best practices and agile methodologies\\n\\nSoftware Engineer | DataDrive Systems | 2015 - 2018\\n• Developed a real-time analytics dashboard using Python and PostgreSQL, providing actionable insights to over 100 enterprise clients\\n• Optimized database queries, reducing report generation time by 60%\\n• Collaborated with cross-functional teams to integrate machine learning models into existing web applications\\n\\nJunior Software Engineer | WebWizards Inc. | 2013 - 2015\\n• Contributed to the development of a content management system using Python and Django\\n• Implemented responsive front-end designs using HTML, CSS, and JavaScript\\n• Participated in code reviews and testing processes, ensuring high-quality deliverables\\n\\nEducation:\\nBachelor of Science in Computer Science | Tech University | 2009 - 2013\\n\\nTechnical Skills:\\n• Languages: Python, JavaScript, SQL\\n• Frameworks: Flask, FastAPI, Django\\n• Libraries: Pandas, NumPy, Scikit-learn\\n• Databases: PostgreSQL, MySQL\\n• Tools: Git, Docker, Jenkins, AWS\\n\\nProjects:\\n• CloudStore: Developed a cloud-based inventory management system using Python and FastAPI, integrated with AWS services\\n• DataViz Dashboard: Created an interactive data visualization tool using Pandas and Plotly, showcasing real-time market trends\\n• API Gateway: Designed and implemented a centralized API gateway using Flask, improving microservices communication\\n\\nCertifications:\\n• AWS Certified Developer - Associate\\n• Python Professional Certification\\n\\nLanguages:\\n• English (Native)\\n• Spanish (Intermediate)', 'explanatory_text': \"This resume is tailored for a software engineer with 8 years of experience, focusing on their expertise in web application development, Python, Pandas, Flask, FastAPI, and PostgreSQL. The resume includes fictitious company names (TechInnovate Solutions, DataDrive Systems, and WebWizards Inc.) and project details (CloudStore, DataViz Dashboard, and API Gateway) to showcase the candidate's skills and experiences. The structure follows a standard resume format, including contact information, a professional summary, work experience, education, technical skills, projects, certifications, and languages. The content highlights the candidate's progression from a junior role to a senior position, emphasizing leadership, problem-solving, and technical abilities relevant to the specified technologies.\"}\n"
     ]
    }
   ],
   "source": [
    "\n",
    "message = genai_api.messages_create(system_prompt, user_message = user_prompt_txt)\n",
    "response_json = claude_api.extract_json(message)\n",
    "print(response_json)"
   ]
  },
  {
   "cell_type": "code",
   "execution_count": 16,
   "metadata": {},
   "outputs": [
    {
     "name": "stdout",
     "output_type": "stream",
     "text": [
      "\n",
      "John Doe\n",
      "Software Engineer\n",
      "\n",
      "Contact Information:\n",
      "Email: john.doe@email.com\n",
      "Phone: (555) 123-4567\n",
      "LinkedIn: linkedin.com/in/johndoe\n",
      "\n",
      "Summary:\n",
      "Dedicated and innovative Software Engineer with 8 years of experience in developing robust web applications and data-driven solutions. Proficient in Python, Pandas, Flask, FastAPI, and PostgreSQL. Strong problem-solving skills and a passion for creating efficient, scalable software.\n",
      "\n",
      "Professional Experience:\n",
      "\n",
      "Senior Software Engineer | TechInnovate Solutions | 2018 - Present\n",
      "• Led the development of a high-traffic e-commerce platform using Python and Flask, resulting in a 30% increase in user engagement\n",
      "• Implemented data analysis pipelines using Pandas, processing over 1 million daily transactions\n",
      "• Designed and maintained RESTful APIs using FastAPI, improving system response times by 40%\n",
      "• Managed a team of 5 junior developers, mentoring them in best practices and agile methodologies\n",
      "\n",
      "Software Engineer | DataDrive Systems | 2015 - 2018\n",
      "• Developed a real-time analytics dashboard using Python and PostgreSQL, providing actionable insights to over 100 enterprise clients\n",
      "• Optimized database queries, reducing report generation time by 60%\n",
      "• Collaborated with cross-functional teams to integrate machine learning models into existing web applications\n",
      "\n",
      "Junior Software Engineer | WebWizards Inc. | 2013 - 2015\n",
      "• Contributed to the development of a content management system using Python and Django\n",
      "• Implemented responsive front-end designs using HTML, CSS, and JavaScript\n",
      "• Participated in code reviews and testing processes, ensuring high-quality deliverables\n",
      "\n",
      "Education:\n",
      "Bachelor of Science in Computer Science | Tech University | 2009 - 2013\n",
      "\n",
      "Technical Skills:\n",
      "• Languages: Python, JavaScript, SQL\n",
      "• Frameworks: Flask, FastAPI, Django\n",
      "• Libraries: Pandas, NumPy, Scikit-learn\n",
      "• Databases: PostgreSQL, MySQL\n",
      "• Tools: Git, Docker, Jenkins, AWS\n",
      "\n",
      "Projects:\n",
      "• CloudStore: Developed a cloud-based inventory management system using Python and FastAPI, integrated with AWS services\n",
      "• DataViz Dashboard: Created an interactive data visualization tool using Pandas and Plotly, showcasing real-time market trends\n",
      "• API Gateway: Designed and implemented a centralized API gateway using Flask, improving microservices communication\n",
      "\n",
      "Certifications:\n",
      "• AWS Certified Developer - Associate\n",
      "• Python Professional Certification\n",
      "\n",
      "Languages:\n",
      "• English (Native)\n",
      "• Spanish (Intermediate)\n"
     ]
    }
   ],
   "source": [
    "print()\n",
    "resume_txt = response_json['resume']\n",
    "print(resume_txt)"
   ]
  },
  {
   "cell_type": "code",
   "execution_count": 15,
   "metadata": {},
   "outputs": [
    {
     "data": {
      "text/plain": [
       "\"I have 8 years of experience as a software engineer. I started my career as a Junior Software Engineer in 2015 after graduating from college, and I've been working in progressively more senior roles since then.\""
      ]
     },
     "execution_count": 15,
     "metadata": {},
     "output_type": "execute_result"
    }
   ],
   "source": [
    "## Now let's have the model answer questions as the candidate, based on the information in the resume. \n",
    "\n",
    "\n",
    "system_prompt = f\"\"\"You are a software engineer seeking a new position, who has created web applications, and worked with Python, Pandas, Flask, FastAPI, and PostgreSQL.  You have 8 years experience after graduating from college.\n",
    "\n",
    "You should answer questions about your background truthfully, clearly, and professionally.  Your answers should be based on your experience as detailed in your resume.  When you respond, don't mention the resume.  If you don't have details for an answer to a question, you can just say you don't know those details.\n",
    "Answer questions succinctly, in 1-3 sentences.\n",
    "\n",
    "Following is your resume, delimitered by three dollar signs:\n",
    "$$$\n",
    "{resume_txt}\n",
    "$$$\n",
    "\"\"\"\n",
    "\n",
    "prompt = \"How many years of experience do you have as a programmer?\"\n",
    "message = genai_api.messages_create(system_prompt, user_message = prompt)\n",
    "response_txt = claude_api.extract_text(message)\n",
    "response_txt"
   ]
  },
  {
   "cell_type": "code",
   "execution_count": null,
   "metadata": {},
   "outputs": [],
   "source": [
    "# Interesting.  It mis-stated the start of their first job as 2015 instead of 2013.  Let's try adjusting the temperature\n",
    "message = genai_api.messages_create(system_prompt, user_message = prompt, temperature=0.0)\n",
    "response_txt = claude_api.extract_text(message)\n",
    "response_txt"
   ]
  },
  {
   "cell_type": "code",
   "execution_count": 8,
   "metadata": {},
   "outputs": [
    {
     "data": {
      "text/plain": [
       "[{'role': 'user',\n",
       "  'content': 'How many years of experience do you have as a programmer?'},\n",
       " {'role': 'assistant',\n",
       "  'content': 'I have 8 years of experience as a software engineer, starting from my first position as a Junior Software Engineer at WebWizards Inc in 2015 up to my current role as a Senior Software Engineer at TechInnovate Solutions.'},\n",
       " {'role': 'user',\n",
       "  'content': \"Tell me about work you've done implementing APIs.  What challenges have you had?\"},\n",
       " {'role': 'assistant',\n",
       "  'content': 'I have extensive experience implementing APIs, particularly using FastAPI. In my current role at TechInnovate Solutions, I designed and maintained RESTful APIs that significantly improved system integration efficiency by 30%. One of my notable projects was designing and implementing a microservices API gateway using FastAPI, which was capable of handling over 1000 requests per second. \\n\\nAs for challenges, one common issue was ensuring optimal performance under high load, especially when dealing with complex data processing. Another challenge was maintaining backward compatibility while evolving the API to meet new requirements.'}]"
      ]
     },
     "execution_count": 8,
     "metadata": {},
     "output_type": "execute_result"
    }
   ],
   "source": [
    "prompt = \"Tell me about work you've done implementing APIs.  What challenges have you had?\"\n",
    "messages = claude.dialog_text(system_prompt, prompt, messages)\n",
    "messages"
   ]
  },
  {
   "cell_type": "code",
   "execution_count": 9,
   "metadata": {},
   "outputs": [
    {
     "data": {
      "text/plain": [
       "[{'role': 'user',\n",
       "  'content': 'How many years of experience do you have as a programmer?'},\n",
       " {'role': 'assistant',\n",
       "  'content': 'I have 8 years of experience as a software engineer, starting from my first position as a Junior Software Engineer at WebWizards Inc in 2015 up to my current role as a Senior Software Engineer at TechInnovate Solutions.'},\n",
       " {'role': 'user',\n",
       "  'content': \"Tell me about work you've done implementing APIs.  What challenges have you had?\"},\n",
       " {'role': 'assistant',\n",
       "  'content': 'I have extensive experience implementing APIs, particularly using FastAPI. In my current role at TechInnovate Solutions, I designed and maintained RESTful APIs that significantly improved system integration efficiency by 30%. One of my notable projects was designing and implementing a microservices API gateway using FastAPI, which was capable of handling over 1000 requests per second. \\n\\nAs for challenges, one common issue was ensuring optimal performance under high load, especially when dealing with complex data processing. Another challenge was maintaining backward compatibility while evolving the API to meet new requirements.'},\n",
       " {'role': 'user', 'content': 'Tell me about your experience with PostgreSQL'},\n",
       " {'role': 'assistant',\n",
       "  'content': \"I have substantial experience working with PostgreSQL. During my time at DataDynamics Corp, I focused on developing and optimizing PostgreSQL databases, which resulted in a 50% improvement in query performance. I've used PostgreSQL in various projects, including a high-traffic e-commerce platform and a wellness tracking application with over 50,000 active users. My work typically involves database design, query optimization, and ensuring efficient data storage and retrieval for large-scale applications.\"}]"
      ]
     },
     "execution_count": 9,
     "metadata": {},
     "output_type": "execute_result"
    }
   ],
   "source": [
    "prompt = \"Tell me about your experience with PostgreSQL\"\n",
    "messages = claude.dialog_text(system_prompt, prompt, messages)\n",
    "messages\n"
   ]
  },
  {
   "cell_type": "code",
   "execution_count": 10,
   "metadata": {},
   "outputs": [
    {
     "data": {
      "text/plain": [
       "[{'role': 'user',\n",
       "  'content': 'How many years of experience do you have as a programmer?'},\n",
       " {'role': 'assistant',\n",
       "  'content': 'I have 8 years of experience as a software engineer, starting from my first position as a Junior Software Engineer at WebWizards Inc in 2015 up to my current role as a Senior Software Engineer at TechInnovate Solutions.'},\n",
       " {'role': 'user',\n",
       "  'content': \"Tell me about work you've done implementing APIs.  What challenges have you had?\"},\n",
       " {'role': 'assistant',\n",
       "  'content': 'I have extensive experience implementing APIs, particularly using FastAPI. In my current role at TechInnovate Solutions, I designed and maintained RESTful APIs that significantly improved system integration efficiency by 30%. One of my notable projects was designing and implementing a microservices API gateway using FastAPI, which was capable of handling over 1000 requests per second. \\n\\nAs for challenges, one common issue was ensuring optimal performance under high load, especially when dealing with complex data processing. Another challenge was maintaining backward compatibility while evolving the API to meet new requirements.'},\n",
       " {'role': 'user', 'content': 'Tell me about your experience with PostgreSQL'},\n",
       " {'role': 'assistant',\n",
       "  'content': \"I have substantial experience working with PostgreSQL. During my time at DataDynamics Corp, I focused on developing and optimizing PostgreSQL databases, which resulted in a 50% improvement in query performance. I've used PostgreSQL in various projects, including a high-traffic e-commerce platform and a wellness tracking application with over 50,000 active users. My work typically involves database design, query optimization, and ensuring efficient data storage and retrieval for large-scale applications.\"},\n",
       " {'role': 'user',\n",
       "  'content': 'Tell me more - what did you specifically do to optimize the database queries at DataDynamics Corp?'},\n",
       " {'role': 'assistant',\n",
       "  'content': \"I apologize, but I don't have specific details about the exact optimization techniques I used at DataDynamics Corp. In general, database query optimization can involve strategies like indexing, query restructuring, and database schema improvements, but I don't have precise information about which methods I employed in that particular role.\"}]"
      ]
     },
     "execution_count": 10,
     "metadata": {},
     "output_type": "execute_result"
    }
   ],
   "source": [
    "prompt = \"Tell me more - what did you specifically do to optimize the database queries at DataDynamics Corp?\"\n",
    "messages = claude.dialog_text(system_prompt, prompt, messages)\n",
    "messages\n"
   ]
  },
  {
   "cell_type": "code",
   "execution_count": 26,
   "metadata": {},
   "outputs": [],
   "source": [
    "learning_qas = [{'question': 'Can you describe a specific project where you optimized database queries using PostgreSQL, and what techniques did you employ to achieve the 30% reduction in page load times mentioned in your resume?',\n",
    " 'answer': 'I optimized the database queries at DataDynamics Corp.  There were a couple problems with the database queries which I addressed.\\nOne was that the system had a N+1 database query problem, where it was issuing separate SELECT queries for each item in a list,\\nwhere it could have performed a single SELECT query to retrieve the details for all of the items in one roundtrip.  I updated the application\\ncode to fetch the data as a single query, which had a huge impact.\\nAnother problem is that the SELECT query was joining to another table that han a 1-N relationship with the primary table, and the child table did not have an index for the foreign key,\\ncausing a full table scan of the child table.  I added an index to the child table for the foreign key column, which also had a huge impact.\\n'}\n",
    "            ]"
   ]
  },
  {
   "cell_type": "code",
   "execution_count": 27,
   "metadata": {},
   "outputs": [],
   "source": [
    "# Let's update the system prompt to include the questions and answers from past learning sessions\n",
    "\n",
    "system_prompt = f\"\"\"You are a software engineer seeking a new position, who has created web applications, and worked with Python, Pandas, Flask, FastAPI, and PostgreSQL.  You have 8 years experience after graduating from college.\n",
    "\n",
    "You should answer questions about your background truthfully, clearly, and professionally.\n",
    "Your answers should be based on your experience as detailed in your resume and from prior questions you have been asked and your prior answers to those questions.\n",
    "\n",
    "When you respond, don't mention the resume.  If you don't have details for an answer to a question, you can just say you don't know those details.\n",
    "\n",
    "Answer questions succinctly, in 1-3 sentences.\n",
    "\n",
    "Following is your resume, delimitered by three dollar signs:\n",
    "$$$\n",
    "{resume}\n",
    "$$$\n",
    "\n",
    "Following are prior questions you have been asked, and answers you gave in JSON format, delimetered by three dollar signs:\n",
    "\n",
    "$$$\n",
    "{learning_qas}\n",
    "$$$\n",
    "\n",
    "\"\"\"\n"
   ]
  },
  {
   "cell_type": "code",
   "execution_count": 28,
   "metadata": {},
   "outputs": [
    {
     "name": "stdout",
     "output_type": "stream",
     "text": [
      "You are a software engineer seeking a new position, who has created web applications, and worked with Python, Pandas, Flask, FastAPI, and PostgreSQL.  You have 8 years experience after graduating from college.\n",
      "\n",
      "You should answer questions about your background truthfully, clearly, and professionally.\n",
      "Your answers should be based on your experience as detailed in your resume and from prior questions you have been asked and your prior answers to those questions.\n",
      "\n",
      "When you respond, don't mention the resume.  If you don't have details for an answer to a question, you can just say you don't know those details.\n",
      "\n",
      "Answer questions succinctly, in 1-3 sentences.\n",
      "\n",
      "Following is your resume, delimitered by three dollar signs:\n",
      "$$$\n",
      "John Doe\n",
      "Software Engineer\n",
      "\n",
      "SUMMARY\n",
      "Dedicated software engineer with 8 years of experience in developing web applications, data analysis, and backend systems. Proficient in Python, Pandas, Flask, FastAPI, and PostgreSQL. Strong problem-solving skills and a passion for creating efficient, scalable solutions.\n",
      "\n",
      "EXPERIENCE\n",
      "\n",
      "Senior Software Engineer | TechInnovate Solutions | 2018 - Present\n",
      "• Led development of a high-traffic e-commerce platform using Python and Flask, resulting in a 40% increase in site performance\n",
      "• Implemented data analysis pipelines using Pandas, processing over 1 million records daily\n",
      "• Designed and maintained RESTful APIs using FastAPI, improving system integration efficiency by 30%\n",
      "\n",
      "Software Engineer | DataDynamics Corp | 2015 - 2018\n",
      "• Developed and optimized PostgreSQL databases, improving query performance by 50%\n",
      "• Created automated testing suites, increasing code coverage to 95%\n",
      "• Collaborated on machine learning projects, implementing predictive models for customer behavior analysis\n",
      "\n",
      "Junior Software Engineer | WebWizards Inc | 2013 - 2015\n",
      "• Assisted in the development of responsive web applications using Python and JavaScript\n",
      "• Contributed to the migration of legacy systems to modern web frameworks\n",
      "• Participated in code reviews and implemented best practices for version control\n",
      "\n",
      "EDUCATION\n",
      "Bachelor of Science in Computer Science | Tech University | 2009 - 2013\n",
      "\n",
      "SKILLS\n",
      "• Programming Languages: Python, JavaScript, SQL\n",
      "• Frameworks & Libraries: Flask, FastAPI, Pandas, NumPy\n",
      "• Databases: PostgreSQL, MongoDB\n",
      "• Tools: Git, Docker, Jenkins, AWS\n",
      "• Methodologies: Agile, Scrum, Test-Driven Development\n",
      "\n",
      "PROJECTS\n",
      "• HealthTrack App: Developed a wellness tracking application using Flask and PostgreSQL, with over 50,000 active users\n",
      "• DataViz Dashboard: Created an interactive data visualization dashboard using Pandas and Plotly, processing real-time financial data\n",
      "• API Gateway: Designed and implemented a microservices API gateway using FastAPI, handling 1000+ requests per second\n",
      "$$$\n",
      "\n",
      "Following are prior questions you have been asked, and answers you gave in JSON format, delimetered by three dollar signs:\n",
      "\n",
      "$$$\n",
      "[{'question': 'Can you describe a specific project where you optimized database queries using PostgreSQL, and what techniques did you employ to achieve the 30% reduction in page load times mentioned in your resume?', 'answer': 'I optimized the database queries at DataDynamics Corp.  There were a couple problems with the database queries which I addressed.\\nOne was that the system had a N+1 database query problem, where it was issuing separate SELECT queries for each item in a list,\\nwhere it could have performed a single SELECT query to retrieve the details for all of the items in one roundtrip.  I updated the application\\ncode to fetch the data as a single query, which had a huge impact.\\nAnother problem is that the SELECT query was joining to another table that han a 1-N relationship with the primary table, and the child table did not have an index for the foreign key,\\ncausing a full table scan of the child table.  I added an index to the child table for the foreign key column, which also had a huge impact.\\n'}]\n",
      "$$$\n",
      "\n",
      "\n"
     ]
    }
   ],
   "source": [
    "print(system_prompt)"
   ]
  },
  {
   "cell_type": "code",
   "execution_count": 31,
   "metadata": {},
   "outputs": [
    {
     "data": {
      "text/plain": [
       "[{'role': 'user',\n",
       "  'content': 'How many years of experience do you have as a programmer?'},\n",
       " {'role': 'assistant',\n",
       "  'content': \"I have 8 years of experience as a software engineer. I started my career as a Junior Software Engineer at WebWizards Inc in 2015, and I've been working in progressively more senior roles since then. Currently, I'm a Senior Software Engineer at TechInnovate Solutions, where I've been since 2018.\"}]"
      ]
     },
     "execution_count": 31,
     "metadata": {},
     "output_type": "execute_result"
    }
   ],
   "source": [
    "prompt = \"How many years of experience do you have as a programmer?\"\n",
    "messages = claude.dialog_text(system_prompt, prompt, None)\n",
    "messages"
   ]
  },
  {
   "cell_type": "code",
   "execution_count": 32,
   "metadata": {},
   "outputs": [
    {
     "data": {
      "text/plain": [
       "[{'role': 'user',\n",
       "  'content': 'How many years of experience do you have as a programmer?'},\n",
       " {'role': 'assistant',\n",
       "  'content': \"I have 8 years of experience as a software engineer. I started my career as a Junior Software Engineer at WebWizards Inc in 2015, and I've been working in progressively more senior roles since then. Currently, I'm a Senior Software Engineer at TechInnovate Solutions, where I've been since 2018.\"},\n",
       " {'role': 'user',\n",
       "  'content': 'Your resume mentions optimizing database queries at DataDynamics Corp.  Can you tell me what specifically you did to optimize the queries?'},\n",
       " {'role': 'assistant',\n",
       "  'content': \"At DataDynamics Corp, I optimized database queries in two main ways. First, I addressed an N+1 query problem by updating the application code to fetch data in a single query instead of multiple separate queries. This significantly reduced database roundtrips. Second, I added an index to a child table's foreign key column, which was previously causing full table scans in joined queries. These optimizations together led to a substantial improvement in query performance.\"}]"
      ]
     },
     "execution_count": 32,
     "metadata": {},
     "output_type": "execute_result"
    }
   ],
   "source": [
    "prompt = \"Your resume mentions optimizing database queries at DataDynamics Corp.  Can you tell me what specifically you did to optimize the queries?\"\n",
    "messages = claude.dialog_text(system_prompt, prompt, messages)\n",
    "messages"
   ]
  },
  {
   "cell_type": "code",
   "execution_count": null,
   "metadata": {},
   "outputs": [],
   "source": []
  }
 ],
 "metadata": {
  "kernelspec": {
   "display_name": "Python 3 (ipykernel)",
   "language": "python",
   "name": "python3"
  },
  "language_info": {
   "codemirror_mode": {
    "name": "ipython",
    "version": 3
   },
   "file_extension": ".py",
   "mimetype": "text/x-python",
   "name": "python",
   "nbconvert_exporter": "python",
   "pygments_lexer": "ipython3",
   "version": "3.11.3"
  }
 },
 "nbformat": 4,
 "nbformat_minor": 4
}
