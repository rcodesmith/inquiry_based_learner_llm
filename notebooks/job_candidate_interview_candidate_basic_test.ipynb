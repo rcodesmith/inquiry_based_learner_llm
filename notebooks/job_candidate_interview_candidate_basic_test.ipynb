{
 "cells": [
  {
   "cell_type": "markdown",
   "metadata": {},
   "source": [
    "# Job Candidate Interview Basic Test\n",
    "\n",
    "Test the model answering questions as a candidate, based on a resume and background information"
   ]
  },
  {
   "cell_type": "code",
   "execution_count": 1,
   "metadata": {},
   "outputs": [],
   "source": [
    "from importlib import reload\n",
    "import sys\n",
    "import os\n",
    "\n",
    "new_path = os.path.abspath(os.path.join('..'))\n",
    "if new_path not in sys.path:\n",
    "    sys.path.append(new_path)\n",
    "\n",
    "from genai_wb import claude_api\n",
    "reload(claude_api)\n",
    "\n",
    "genai_api = claude_api.GenAI()\n"
   ]
  },
  {
   "cell_type": "code",
   "execution_count": 3,
   "metadata": {},
   "outputs": [
    {
     "name": "stdout",
     "output_type": "stream",
     "text": [
      "Here's a sample resume for you based on the information provided:\n",
      "\n",
      "John Doe\n",
      "Software Engineer\n",
      "Email: johndoe@email.com | Phone: (555) 123-4567 | LinkedIn: linkedin.com/in/johndoe\n",
      "GitHub: github.com/johndoe\n",
      "\n",
      "Summary:\n",
      "Dedicated and versatile Software Engineer with 8 years of experience in developing robust web applications. Proficient in Python, Pandas, Flask, FastAPI, and PostgreSQL. Strong problem-solving skills and a passion for creating efficient, scalable solutions.\n",
      "\n",
      "Professional Experience:\n",
      "\n",
      "Senior Software Engineer | TechInnovate Solutions | 2018 - Present\n",
      "- Led development of a high-traffic e-commerce platform using Python and Flask, resulting in a 40% increase in user engagement\n",
      "- Implemented data analysis pipelines using Pandas, processing over 1 million daily transactions\n",
      "- Designed and maintained RESTful APIs using FastAPI, improving system response time by 30%\n",
      "- Optimized PostgreSQL database queries, reducing average query time by 50%\n",
      "\n",
      "Software Engineer | DataDrive Systems | 2015 - 2018\n",
      "- Developed a real-time analytics dashboard using Python and Flask, processing data from IoT devices\n",
      "- Created ETL processes using Pandas for data cleansing and transformation\n",
      "- Implemented automated testing suites, increasing code coverage by 75%\n",
      "\n",
      "Junior Software Engineer | WebWave Technologies | 2013 - 2015\n",
      "- Assisted in the development of a content management system using Python and Django\n",
      "- Collaborated with the frontend team to integrate RESTful APIs\n",
      "- Participated in code reviews and contributed to improving development processes\n",
      "\n",
      "Projects:\n",
      "- Open-source Contribution: Developed a popular Python library for simplified database migrations, with over 10,000 GitHub stars\n",
      "- Personal Project: Created a machine learning-based recommendation engine using Python and scikit-learn\n",
      "\n",
      "Skills:\n",
      "- Programming Languages: Python, JavaScript, SQL\n",
      "- Frameworks/Libraries: Flask, FastAPI, Pandas, NumPy, Django\n",
      "- Databases: PostgreSQL, MySQL, MongoDB\n",
      "- Tools: Git, Docker, Jenkins, Jira\n",
      "- Cloud Platforms: AWS, Google Cloud Platform\n",
      "\n",
      "Education:\n",
      "Bachelor of Science in Computer Science | Tech University | 2009 - 2013\n",
      "\n",
      "Certifications:\n",
      "- AWS Certified Developer - Associate\n",
      "- Python Professional Certification\n",
      "\n",
      "This resume highlights your experience as a software engineer, emphasizing your skills in Python, web application development, and working with technologies like Pandas, Flask, FastAPI, and PostgreSQL. It includes fictitious company names and general project details. You can adjust the specific details, achievements, and skills to better match your actual experience and the job you're applying for.\n"
     ]
    }
   ],
   "source": [
    "# First, let's generate a resume for a software engineer based on some base information.  We'll depend on the LLM to fill in details.\n",
    "\n",
    "system_prompt = \"You are an experienced resume writer with experience writing resumes for software engineers.\"\n",
    "prompt = \"Please create a resume for me. I am a software engineer who has built web applications, and worked with Python, Pandas, Flask, FastAPI, and PostgreSQL.  I have 8 years experience after graduating from college.  Please fill in fictitious company names, and project details.\"\n",
    "\n",
    "message, messages = genai_api.messages_create(system_prompt, user_text = prompt)\n",
    "resume_txt = claude_api.extract_text(message)\n",
    "print(resume_txt)"
   ]
  },
  {
   "cell_type": "code",
   "execution_count": 6,
   "metadata": {},
   "outputs": [
    {
     "name": "stdout",
     "output_type": "stream",
     "text": [
      "{'resume': 'John Doe\\nSoftware Engineer\\n\\nContact: john.doe@email.com | (555) 123-4567 | linkedin.com/in/johndoe\\n\\nSUMMARY\\nDedicated software engineer with 8 years of experience in developing robust web applications. Proficient in Python, with expertise in data manipulation using Pandas, and building APIs with Flask and FastAPI. Strong background in database management with PostgreSQL.\\n\\nSKILLS\\n• Languages: Python, JavaScript, SQL\\n• Frameworks: Flask, FastAPI, Django\\n• Libraries: Pandas, NumPy, SQLAlchemy\\n• Databases: PostgreSQL, MongoDB\\n• Tools: Git, Docker, AWS, Jira\\n\\nPROFESSIONAL EXPERIENCE\\n\\nSenior Software Engineer | TechInnovate Solutions | 2018 - Present\\n• Led the development of a high-performance data processing pipeline using Python and Pandas, improving data analysis speed by 40%\\n• Designed and implemented RESTful APIs using FastAPI, enhancing system scalability and reducing response times by 30%\\n• Optimized PostgreSQL database queries, resulting in a 50% reduction in data retrieval time\\n• Mentored junior developers and conducted code reviews to ensure best practices and code quality\\n\\nSoftware Engineer | WebCraft Dynamics | 2015 - 2018\\n• Developed and maintained multiple web applications using Flask, improving user engagement by 25%\\n• Implemented data visualization features using Pandas and Matplotlib, providing actionable insights to clients\\n• Collaborated with the QA team to implement automated testing, reducing bug reports by 35%\\n\\nJunior Software Engineer | DataSphere Technologies | 2013 - 2015\\n• Assisted in the development of a customer relationship management system using Python and PostgreSQL\\n• Contributed to the creation of internal tools for data analysis and reporting using Pandas\\n\\nPROJECTS\\n\\nPredictive Maintenance System\\n• Developed a machine learning model using Python and scikit-learn to predict equipment failures\\n• Implemented a Flask API to serve predictions, integrated with existing maintenance systems\\n\\nReal-time Analytics Dashboard\\n• Created a responsive web dashboard using Flask and D3.js for visualizing real-time data streams\\n• Optimized data processing with Pandas to handle large datasets efficiently\\n\\nEDUCATION\\nBachelor of Science in Computer Science | Tech University | 2009 - 2013\\n\\nCERTIFICATIONS\\n• AWS Certified Developer - Associate\\n• MongoDB Certified Developer', 'explanatory_text': \"This resume is tailored for a software engineer with 8 years of experience, focusing on web application development, Python, Pandas, Flask, FastAPI, and PostgreSQL. The resume includes a summary, skills section, professional experience with three job positions, notable projects, education, and certifications. The company names and project details are fictitious as requested. The structure follows a standard chronological format, highlighting the candidate's progression and key achievements in each role.\"}\n"
     ]
    }
   ],
   "source": [
    "# That's good, but let's prompt to have the model return the resume content separate from the explanatory text at the bottom.\n",
    "# We'll have it generate the resume into a JSON format which we specify.  Note the extra instruction at the end to ensure\n",
    "# it is valid JSON.\n",
    "\n",
    "request_txt = \"\"\"Please create a resume for me.  I'm a software engineer who has created web applications, and worked with Python, Pandas, Flask, FastAPI, and PostgreSQL.\n",
    "I have 8 years experience after graduating from college.  Please fill in fictitious company names, and project details.\n",
    "\"\"\"\n",
    "\n",
    "json_format = \"\"\"{\n",
    "  \"resume\": \"string\",\n",
    "  \"explanatory_text\": \"string\"\n",
    "}\"\"\"\n",
    "\n",
    "user_prompt_txt = f\"\"\"\n",
    "Please respond to the following prompt and format your response as a JSON object with the structure provided below:\n",
    "\n",
    "Prompt: {prompt}\n",
    "\n",
    "JSON Structure: {json_format}\n",
    "\n",
    "Ensure your response is a valid JSON object that can be parsed. Do not include any explanatory text outside the JSON structure.\"\"\"\n",
    "\n",
    "msg, messages = genai_api.messages_create(system_prompt, user_text = user_prompt_txt)\n",
    "response_json = claude_api.extract_json(msg)\n",
    "print(response_json)"
   ]
  },
  {
   "cell_type": "code",
   "execution_count": 7,
   "metadata": {},
   "outputs": [
    {
     "name": "stdout",
     "output_type": "stream",
     "text": [
      "John Doe\n",
      "Software Engineer\n",
      "\n",
      "Contact: john.doe@email.com | (555) 123-4567 | linkedin.com/in/johndoe\n",
      "\n",
      "SUMMARY\n",
      "Dedicated software engineer with 8 years of experience in developing robust web applications. Proficient in Python, with expertise in data manipulation using Pandas, and building APIs with Flask and FastAPI. Strong background in database management with PostgreSQL.\n",
      "\n",
      "SKILLS\n",
      "• Languages: Python, JavaScript, SQL\n",
      "• Frameworks: Flask, FastAPI, Django\n",
      "• Libraries: Pandas, NumPy, SQLAlchemy\n",
      "• Databases: PostgreSQL, MongoDB\n",
      "• Tools: Git, Docker, AWS, Jira\n",
      "\n",
      "PROFESSIONAL EXPERIENCE\n",
      "\n",
      "Senior Software Engineer | TechInnovate Solutions | 2018 - Present\n",
      "• Led the development of a high-performance data processing pipeline using Python and Pandas, improving data analysis speed by 40%\n",
      "• Designed and implemented RESTful APIs using FastAPI, enhancing system scalability and reducing response times by 30%\n",
      "• Optimized PostgreSQL database queries, resulting in a 50% reduction in data retrieval time\n",
      "• Mentored junior developers and conducted code reviews to ensure best practices and code quality\n",
      "\n",
      "Software Engineer | WebCraft Dynamics | 2015 - 2018\n",
      "• Developed and maintained multiple web applications using Flask, improving user engagement by 25%\n",
      "• Implemented data visualization features using Pandas and Matplotlib, providing actionable insights to clients\n",
      "• Collaborated with the QA team to implement automated testing, reducing bug reports by 35%\n",
      "\n",
      "Junior Software Engineer | DataSphere Technologies | 2013 - 2015\n",
      "• Assisted in the development of a customer relationship management system using Python and PostgreSQL\n",
      "• Contributed to the creation of internal tools for data analysis and reporting using Pandas\n",
      "\n",
      "PROJECTS\n",
      "\n",
      "Predictive Maintenance System\n",
      "• Developed a machine learning model using Python and scikit-learn to predict equipment failures\n",
      "• Implemented a Flask API to serve predictions, integrated with existing maintenance systems\n",
      "\n",
      "Real-time Analytics Dashboard\n",
      "• Created a responsive web dashboard using Flask and D3.js for visualizing real-time data streams\n",
      "• Optimized data processing with Pandas to handle large datasets efficiently\n",
      "\n",
      "EDUCATION\n",
      "Bachelor of Science in Computer Science | Tech University | 2009 - 2013\n",
      "\n",
      "CERTIFICATIONS\n",
      "• AWS Certified Developer - Associate\n",
      "• MongoDB Certified Developer\n"
     ]
    }
   ],
   "source": [
    "\n",
    "resume_txt = response_json['resume']\n",
    "print(resume_txt)"
   ]
  },
  {
   "cell_type": "code",
   "execution_count": null,
   "metadata": {},
   "outputs": [],
   "source": [
    "# Looks good.  Now we have the resume isolated.\n",
    "# \n",
    "# I've run this multiple times, and the generated resume varies a bit each time.  For the purposes of the remaining steps & other workbooks, I'm going to use the\n",
    "# following previously generated resume.\n",
    "\n",
    "resume_txt = \"\"\"\n",
    "\n",
    "John Doe\n",
    "Software Engineer\n",
    "\n",
    "Contact Information:\n",
    "Email: john.doe@email.com\n",
    "Phone: (555) 123-4567\n",
    "LinkedIn: linkedin.com/in/johndoe\n",
    "\n",
    "Summary:\n",
    "Dedicated and innovative Software Engineer with 8 years of experience in developing robust web applications and data-driven solutions. Proficient in Python, Pandas, Flask, FastAPI, and PostgreSQL. Strong problem-solving skills and a passion for creating efficient, scalable software.\n",
    "\n",
    "Professional Experience:\n",
    "\n",
    "Senior Software Engineer | TechInnovate Solutions | 2018 - Present\n",
    "• Led the development of a high-traffic e-commerce platform using Python and Flask, resulting in a 30% increase in user engagement\n",
    "• Implemented data analysis pipelines using Pandas, processing over 1 million daily transactions\n",
    "• Designed and maintained RESTful APIs using FastAPI, improving system response times by 40%\n",
    "• Managed a team of 5 junior developers, mentoring them in best practices and agile methodologies\n",
    "\n",
    "Software Engineer | DataDrive Systems | 2015 - 2018\n",
    "• Developed a real-time analytics dashboard using Python and PostgreSQL, providing actionable insights to over 100 enterprise clients\n",
    "• Optimized database queries, reducing report generation time by 60%\n",
    "• Collaborated with cross-functional teams to integrate machine learning models into existing web applications\n",
    "\n",
    "Junior Software Engineer | WebWizards Inc. | 2013 - 2015\n",
    "• Contributed to the development of a content management system using Python and Django\n",
    "• Implemented responsive front-end designs using HTML, CSS, and JavaScript\n",
    "• Participated in code reviews and testing processes, ensuring high-quality deliverables\n",
    "\n",
    "Education:\n",
    "Bachelor of Science in Computer Science | Tech University | 2009 - 2013\n",
    "\n",
    "Technical Skills:\n",
    "• Languages: Python, JavaScript, SQL\n",
    "• Frameworks: Flask, FastAPI, Django\n",
    "• Libraries: Pandas, NumPy, Scikit-learn\n",
    "• Databases: PostgreSQL, MySQL\n",
    "• Tools: Git, Docker, Jenkins, AWS\n",
    "\n",
    "Projects:\n",
    "• CloudStore: Developed a cloud-based inventory management system using Python and FastAPI, integrated with AWS services\n",
    "• DataViz Dashboard: Created an interactive data visualization tool using Pandas and Plotly, showcasing real-time market trends\n",
    "• API Gateway: Designed and implemented a centralized API gateway using Flask, improving microservices communication\n",
    "\n",
    "Certifications:\n",
    "• AWS Certified Developer - Associate\n",
    "• Python Professional Certification\n",
    "\n",
    "Languages:\n",
    "• English (Native)\n",
    "• Spanish (Intermediate)\n",
    "\"\"\""
   ]
  },
  {
   "cell_type": "code",
   "execution_count": 11,
   "metadata": {},
   "outputs": [
    {
     "data": {
      "text/plain": [
       "\"I have 8 years of experience as a software engineer. I started my career as a Junior Software Engineer at DataSphere Technologies in 2013 after graduating from college, and I've been working in progressively more senior roles since then.\""
      ]
     },
     "execution_count": 11,
     "metadata": {},
     "output_type": "execute_result"
    }
   ],
   "source": [
    "# Now let's have the model answer questions as the candidate, based on the information in the resume. \n",
    "# Note my instruction to have it answer succinctly.  When I first ran this it ran on with a long response.\n",
    "# I'm setting the temperature to 0.0, to minimize randomness and chance of answers that stray from the resume and background info. \n",
    "\n",
    "# We'll start off with a very basic question\n",
    "\n",
    "system_prompt = f\"\"\"You are a software engineer seeking a new position, who has created web applications, and worked with Python, Pandas, Flask, FastAPI, and PostgreSQL.  You have 8 years experience after graduating from college.\n",
    "\n",
    "You should answer questions about your background truthfully, clearly, and professionally.  Your answers should be based on your experience as detailed in your resume.  When you respond, don't mention the resume.  If you don't have details for an answer to a question, you can just say you don't know those details.\n",
    "Answer questions succinctly, in 1-3 sentences.\n",
    "\n",
    "Following is your resume, delimitered by three dollar signs:\n",
    "$$$\n",
    "{resume_txt}\n",
    "$$$\n",
    "\"\"\"\n",
    "\n",
    "prompt = \"How many years of experience do you have as a programmer?\"\n",
    "msg, messages = genai_api.messages_create(system_prompt, user_text = prompt, temperature=0.0)\n",
    "response_txt = claude_api.extract_text(msg)\n",
    "response_txt"
   ]
  },
  {
   "cell_type": "code",
   "execution_count": 13,
   "metadata": {},
   "outputs": [
    {
     "data": {
      "text/plain": [
       "\"I've worked extensively with implementing APIs, particularly using FastAPI and Flask. At TechInnovate Solutions, I designed and implemented RESTful APIs using FastAPI, which significantly enhanced our system's scalability and reduced response times by 30%. \\n\\nOne of the main challenges I encountered was optimizing performance for high-traffic endpoints. To address this, I implemented caching strategies and fine-tuned database queries, which greatly improved overall API responsiveness. Another challenge was ensuring proper documentation and maintaining consistency across different API versions as the system evolved.\""
      ]
     },
     "execution_count": 13,
     "metadata": {},
     "output_type": "execute_result"
    }
   ],
   "source": [
    "# Another couple questions, more open-ended\n",
    "\n",
    "prompt = \"Tell me about work you've done implementing APIs.  What challenges have you had?\"\n",
    "msg, messages = genai_api.messages_create(system_prompt, user_text = prompt, temperature=0.0)\n",
    "response_txt = claude_api.extract_text(msg)\n",
    "response_txt"
   ]
  },
  {
   "cell_type": "code",
   "execution_count": 14,
   "metadata": {},
   "outputs": [
    {
     "data": {
      "text/plain": [
       "'I have extensive experience working with PostgreSQL throughout my career. At TechInnovate Solutions, I optimized PostgreSQL database queries, which resulted in a significant 50% reduction in data retrieval time. This improvement greatly enhanced the performance of our applications. Additionally, during my time at DataSphere Technologies, I assisted in developing a customer relationship management system that utilized PostgreSQL as its primary database. These experiences have given me a strong foundation in database management and query optimization with PostgreSQL.'"
      ]
     },
     "execution_count": 14,
     "metadata": {},
     "output_type": "execute_result"
    }
   ],
   "source": [
    "prompt = \"Tell me about your experience with PostgreSQL\"\n",
    "msg, messages = genai_api.messages_create(system_prompt, user_text = prompt, temperature=0.0)\n",
    "response_txt = claude_api.extract_text(msg)\n",
    "response_txt"
   ]
  },
  {
   "cell_type": "code",
   "execution_count": 16,
   "metadata": {},
   "outputs": [
    {
     "data": {
      "text/plain": [
       "\"I apologize, but I don't have any specific information about optimizing database queries at DataDynamics Corp. My experience with database optimization was at TechInnovate Solutions, where I optimized PostgreSQL database queries, resulting in a 50% reduction in data retrieval time. However, I don't have details about work at a company called DataDynamics Corp in my background.\""
      ]
     },
     "execution_count": 16,
     "metadata": {},
     "output_type": "execute_result"
    }
   ],
   "source": [
    "# Now let's try asking for details on something for which it doesn't have information.\n",
    "\n",
    "prompt = \"What did you specifically do to optimize the database queries at DataDynamics Corp?\"\n",
    "msg, messages = genai_api.messages_create(system_prompt, user_text = prompt, temperature=0.0)\n",
    "response_txt = claude_api.extract_text(msg)\n",
    "response_txt"
   ]
  },
  {
   "cell_type": "code",
   "execution_count": 23,
   "metadata": {},
   "outputs": [],
   "source": [
    "# Notice that when I ask specific questions that it doesn't have information for, it says it doesn't know instead of making something up (hallucination).  That's what we want and a reason to set temperature=0."
   ]
  }
 ],
 "metadata": {
  "kernelspec": {
   "display_name": "Python 3 (ipykernel)",
   "language": "python",
   "name": "python3"
  },
  "language_info": {
   "codemirror_mode": {
    "name": "ipython",
    "version": 3
   },
   "file_extension": ".py",
   "mimetype": "text/x-python",
   "name": "python",
   "nbconvert_exporter": "python",
   "pygments_lexer": "ipython3",
   "version": "3.11.3"
  }
 },
 "nbformat": 4,
 "nbformat_minor": 4
}
