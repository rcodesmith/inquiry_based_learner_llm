{
 "cells": [
  {
   "cell_type": "markdown",
   "metadata": {},
   "source": [
    "# Interacting with Claude API"
   ]
  },
  {
   "cell_type": "code",
   "execution_count": 25,
   "metadata": {},
   "outputs": [],
   "source": [
    "from importlib import reload\n",
    "import sys\n",
    "import os\n",
    "\n",
    "new_path = os.path.abspath(os.path.join('..'))\n",
    "if new_path not in sys.path:\n",
    "    sys.path.append(new_path)\n",
    "\n",
    "from genai_wb import claude_api\n",
    "reload(claude_api)\n",
    "\n",
    "genai_api = claude_api.GenAI()\n"
   ]
  },
  {
   "cell_type": "code",
   "execution_count": 26,
   "metadata": {},
   "outputs": [],
   "source": [
    "system_prompt = \"You are an experienced resume writer with experience writing resumes for software engineers.\"\n",
    "prompt = \"Please create a resume for me. I am a software engineer who has created web applications, and worked with Python, Pandas, Flask, FastAPI, and PostgreSQL.  I have 8 years experience after graduating from college.  Please fill in fictitious company names, and project details.\"\n"
   ]
  },
  {
   "cell_type": "code",
   "execution_count": 27,
   "metadata": {},
   "outputs": [
    {
     "name": "stdout",
     "output_type": "stream",
     "text": [
      "Here's a sample resume for you based on the information you provided:\n",
      "\n",
      "JOHN DOE\n",
      "Software Engineer\n",
      "email@example.com | (555) 123-4567 | San Francisco, CA | LinkedIn: linkedin.com/in/johndoe\n",
      "\n",
      "SUMMARY\n",
      "Experienced Software Engineer with 8 years of expertise in developing web applications and working with Python, Pandas, Flask, FastAPI, and PostgreSQL. Proven track record of delivering high-quality, scalable solutions in fast-paced environments.\n",
      "\n",
      "SKILLS\n",
      "Languages: Python, JavaScript, SQL\n",
      "Frameworks/Libraries: Flask, FastAPI, Pandas, NumPy, React\n",
      "Databases: PostgreSQL, MongoDB\n",
      "Tools: Git, Docker, AWS, Jira, Jenkins\n",
      "\n",
      "PROFESSIONAL EXPERIENCE\n",
      "\n",
      "Senior Software Engineer | TechInnovate Solutions | San Francisco, CA | 2018 - Present\n",
      "• Led development of a high-traffic e-commerce platform using Python, Flask, and PostgreSQL, resulting in a 40% increase in website performance\n",
      "• Implemented data analysis pipeline using Pandas and NumPy, processing over 1 million daily user interactions\n",
      "• Mentored junior developers and conducted code reviews, improving team productivity by 25%\n",
      "\n",
      "Software Engineer | DataDrive Systems | Oakland, CA | 2015 - 2018\n",
      "• Developed RESTful APIs using FastAPI, facilitating seamless integration with third-party services\n",
      "• Optimized database queries, reducing response times by 50% for critical operations\n",
      "• Contributed to the design and implementation of a real-time analytics dashboard using React and Flask\n",
      "\n",
      "Junior Software Engineer | WebWizard Corp | San Jose, CA | 2013 - 2015\n",
      "• Assisted in the development of a content management system using Python and Django\n",
      "• Implemented automated testing procedures, increasing code coverage by 30%\n",
      "• Collaborated with the UX team to improve user interface designs, resulting in a 20% increase in user engagement\n",
      "\n",
      "PROJECTS\n",
      "\n",
      "Predictive Maintenance System\n",
      "• Developed a machine learning model using Python and Scikit-learn to predict equipment failures, reducing downtime by 35%\n",
      "• Implemented a web interface using Flask and React for easy data visualization and reporting\n",
      "\n",
      "Open-Source Contribution: PyDataAnalyzer\n",
      "• Contributed to an open-source data analysis library, implementing new features and optimizing existing algorithms\n",
      "• Received recognition for improving the library's documentation and user guides\n",
      "\n",
      "EDUCATION\n",
      "\n",
      "Bachelor of Science in Computer Science\n",
      "Stanford University, Stanford, CA | Graduated: 2013\n",
      "\n",
      "CERTIFICATIONS\n",
      "• AWS Certified Developer - Associate\n",
      "• MongoDB Certified Developer\n",
      "\n",
      "This resume showcases your experience as a software engineer, highlighting your skills in Python, web development, and data analysis. It includes fictitious company names and project details as requested. You can customize this template further by adding or modifying sections to best represent your unique experiences and achievements.\n"
     ]
    }
   ],
   "source": [
    "message = genai_api.messages_create(system_prompt, user_text = prompt)\n",
    "resume_txt = claude_api.extract_text(message)\n",
    "print(resume_txt)"
   ]
  },
  {
   "cell_type": "code",
   "execution_count": 28,
   "metadata": {},
   "outputs": [],
   "source": [
    "resume_txt = \"\"\"\n",
    "\n",
    "John Doe\n",
    "Software Engineer\n",
    "\n",
    "Contact Information:\n",
    "Email: john.doe@email.com\n",
    "Phone: (555) 123-4567\n",
    "LinkedIn: linkedin.com/in/johndoe\n",
    "\n",
    "Summary:\n",
    "Dedicated and innovative Software Engineer with 8 years of experience in developing robust web applications and data-driven solutions. Proficient in Python, Pandas, Flask, FastAPI, and PostgreSQL. Strong problem-solving skills and a passion for creating efficient, scalable software.\n",
    "\n",
    "Professional Experience:\n",
    "\n",
    "Senior Software Engineer | TechInnovate Solutions | 2018 - Present\n",
    "• Led the development of a high-traffic e-commerce platform using Python and Flask, resulting in a 30% increase in user engagement\n",
    "• Implemented data analysis pipelines using Pandas, processing over 1 million daily transactions\n",
    "• Designed and maintained RESTful APIs using FastAPI, improving system response times by 40%\n",
    "• Managed a team of 5 junior developers, mentoring them in best practices and agile methodologies\n",
    "\n",
    "Software Engineer | DataDrive Systems | 2015 - 2018\n",
    "• Developed a real-time analytics dashboard using Python and PostgreSQL, providing actionable insights to over 100 enterprise clients\n",
    "• Optimized database queries, reducing report generation time by 60%\n",
    "• Collaborated with cross-functional teams to integrate machine learning models into existing web applications\n",
    "\n",
    "Junior Software Engineer | WebWizards Inc. | 2013 - 2015\n",
    "• Contributed to the development of a content management system using Python and Django\n",
    "• Implemented responsive front-end designs using HTML, CSS, and JavaScript\n",
    "• Participated in code reviews and testing processes, ensuring high-quality deliverables\n",
    "\n",
    "Education:\n",
    "Bachelor of Science in Computer Science | Tech University | 2009 - 2013\n",
    "\n",
    "Technical Skills:\n",
    "• Languages: Python, JavaScript, SQL\n",
    "• Frameworks: Flask, FastAPI, Django\n",
    "• Libraries: Pandas, NumPy, Scikit-learn\n",
    "• Databases: PostgreSQL, MySQL\n",
    "• Tools: Git, Docker, Jenkins, AWS\n",
    "\n",
    "Projects:\n",
    "• CloudStore: Developed a cloud-based inventory management system using Python and FastAPI, integrated with AWS services\n",
    "• DataViz Dashboard: Created an interactive data visualization tool using Pandas and Plotly, showcasing real-time market trends\n",
    "• API Gateway: Designed and implemented a centralized API gateway using Flask, improving microservices communication\n",
    "\n",
    "Certifications:\n",
    "• AWS Certified Developer - Associate\n",
    "• Python Professional Certification\n",
    "\n",
    "Languages:\n",
    "• English (Native)\n",
    "• Spanish (Intermediate)\n",
    "\"\"\""
   ]
  },
  {
   "cell_type": "code",
   "execution_count": 9,
   "metadata": {},
   "outputs": [],
   "source": [
    "# That's good, but let's prompt to have the model return the resume content separate from the explanatory text.\n",
    "\n",
    "request_txt = \"\"\"Please create a resume for me.  I'm a software engineer who has created web applications, and worked with Python, Pandas, Flask, FastAPI, and PostgreSQL.\n",
    "I have 8 years experience after graduating from college.  Please fill in fictitious company names, and project details.\n",
    "\"\"\"\n",
    "\n",
    "json_format = \"\"\"{\n",
    "  \"resume\": \"string\",\n",
    "  \"explanatory_text\": \"string\"\n",
    "}\"\"\"\n",
    "\n",
    "user_prompt_txt = f\"\"\"\n",
    "Please respond to the following prompt and format your response as a JSON object with the structure provided below:\n",
    "\n",
    "Prompt: {prompt}\n",
    "\n",
    "JSON Structure: {json_format}\n",
    "\n",
    "Ensure your response is a valid JSON object that can be parsed. Do not include any explanatory text outside the JSON structure.\"\"\"\n"
   ]
  },
  {
   "cell_type": "code",
   "execution_count": 10,
   "metadata": {},
   "outputs": [
    {
     "name": "stdout",
     "output_type": "stream",
     "text": [
      "{'resume': 'John Doe\\nSoftware Engineer\\n\\nContact Information:\\nEmail: john.doe@email.com\\nPhone: (555) 123-4567\\nLinkedIn: linkedin.com/in/johndoe\\n\\nSummary:\\nDedicated and innovative Software Engineer with 8 years of experience in developing robust web applications and data-driven solutions. Proficient in Python, Pandas, Flask, FastAPI, and PostgreSQL. Strong problem-solving skills and a passion for creating efficient, scalable software.\\n\\nProfessional Experience:\\n\\nSenior Software Engineer | TechInnovate Solutions | 2018 - Present\\n• Led the development of a high-traffic e-commerce platform using Python and Flask, resulting in a 30% increase in user engagement\\n• Implemented data analysis pipelines using Pandas, processing over 1 million daily transactions\\n• Designed and maintained RESTful APIs using FastAPI, improving system response times by 40%\\n• Managed a team of 5 junior developers, mentoring them in best practices and agile methodologies\\n\\nSoftware Engineer | DataDrive Systems | 2015 - 2018\\n• Developed a real-time analytics dashboard using Python and PostgreSQL, providing actionable insights to over 100 enterprise clients\\n• Optimized database queries, reducing report generation time by 60%\\n• Collaborated with cross-functional teams to integrate machine learning models into existing web applications\\n\\nJunior Software Engineer | WebWizards Inc. | 2013 - 2015\\n• Contributed to the development of a content management system using Python and Django\\n• Implemented responsive front-end designs using HTML, CSS, and JavaScript\\n• Participated in code reviews and testing processes, ensuring high-quality deliverables\\n\\nEducation:\\nBachelor of Science in Computer Science | Tech University | 2009 - 2013\\n\\nTechnical Skills:\\n• Languages: Python, JavaScript, SQL\\n• Frameworks: Flask, FastAPI, Django\\n• Libraries: Pandas, NumPy, Scikit-learn\\n• Databases: PostgreSQL, MySQL\\n• Tools: Git, Docker, Jenkins, AWS\\n\\nProjects:\\n• CloudStore: Developed a cloud-based inventory management system using Python and FastAPI, integrated with AWS services\\n• DataViz Dashboard: Created an interactive data visualization tool using Pandas and Plotly, showcasing real-time market trends\\n• API Gateway: Designed and implemented a centralized API gateway using Flask, improving microservices communication\\n\\nCertifications:\\n• AWS Certified Developer - Associate\\n• Python Professional Certification\\n\\nLanguages:\\n• English (Native)\\n• Spanish (Intermediate)', 'explanatory_text': \"This resume is tailored for a software engineer with 8 years of experience, focusing on their expertise in web application development, Python, Pandas, Flask, FastAPI, and PostgreSQL. The resume includes fictitious company names (TechInnovate Solutions, DataDrive Systems, and WebWizards Inc.) and project details (CloudStore, DataViz Dashboard, and API Gateway) to showcase the candidate's skills and experiences. The structure follows a standard resume format, including contact information, a professional summary, work experience, education, technical skills, projects, certifications, and languages. The content highlights the candidate's progression from a junior role to a senior position, emphasizing leadership, problem-solving, and technical abilities relevant to the specified technologies.\"}\n"
     ]
    }
   ],
   "source": [
    "\n",
    "message = genai_api.messages_create(system_prompt, user_text = user_prompt_txt)\n",
    "response_json = claude_api.extract_json(message)\n",
    "print(response_json)"
   ]
  },
  {
   "cell_type": "code",
   "execution_count": 16,
   "metadata": {},
   "outputs": [
    {
     "name": "stdout",
     "output_type": "stream",
     "text": [
      "\n",
      "John Doe\n",
      "Software Engineer\n",
      "\n",
      "Contact Information:\n",
      "Email: john.doe@email.com\n",
      "Phone: (555) 123-4567\n",
      "LinkedIn: linkedin.com/in/johndoe\n",
      "\n",
      "Summary:\n",
      "Dedicated and innovative Software Engineer with 8 years of experience in developing robust web applications and data-driven solutions. Proficient in Python, Pandas, Flask, FastAPI, and PostgreSQL. Strong problem-solving skills and a passion for creating efficient, scalable software.\n",
      "\n",
      "Professional Experience:\n",
      "\n",
      "Senior Software Engineer | TechInnovate Solutions | 2018 - Present\n",
      "• Led the development of a high-traffic e-commerce platform using Python and Flask, resulting in a 30% increase in user engagement\n",
      "• Implemented data analysis pipelines using Pandas, processing over 1 million daily transactions\n",
      "• Designed and maintained RESTful APIs using FastAPI, improving system response times by 40%\n",
      "• Managed a team of 5 junior developers, mentoring them in best practices and agile methodologies\n",
      "\n",
      "Software Engineer | DataDrive Systems | 2015 - 2018\n",
      "• Developed a real-time analytics dashboard using Python and PostgreSQL, providing actionable insights to over 100 enterprise clients\n",
      "• Optimized database queries, reducing report generation time by 60%\n",
      "• Collaborated with cross-functional teams to integrate machine learning models into existing web applications\n",
      "\n",
      "Junior Software Engineer | WebWizards Inc. | 2013 - 2015\n",
      "• Contributed to the development of a content management system using Python and Django\n",
      "• Implemented responsive front-end designs using HTML, CSS, and JavaScript\n",
      "• Participated in code reviews and testing processes, ensuring high-quality deliverables\n",
      "\n",
      "Education:\n",
      "Bachelor of Science in Computer Science | Tech University | 2009 - 2013\n",
      "\n",
      "Technical Skills:\n",
      "• Languages: Python, JavaScript, SQL\n",
      "• Frameworks: Flask, FastAPI, Django\n",
      "• Libraries: Pandas, NumPy, Scikit-learn\n",
      "• Databases: PostgreSQL, MySQL\n",
      "• Tools: Git, Docker, Jenkins, AWS\n",
      "\n",
      "Projects:\n",
      "• CloudStore: Developed a cloud-based inventory management system using Python and FastAPI, integrated with AWS services\n",
      "• DataViz Dashboard: Created an interactive data visualization tool using Pandas and Plotly, showcasing real-time market trends\n",
      "• API Gateway: Designed and implemented a centralized API gateway using Flask, improving microservices communication\n",
      "\n",
      "Certifications:\n",
      "• AWS Certified Developer - Associate\n",
      "• Python Professional Certification\n",
      "\n",
      "Languages:\n",
      "• English (Native)\n",
      "• Spanish (Intermediate)\n"
     ]
    }
   ],
   "source": [
    "print()\n",
    "resume_txt = response_json['resume']\n",
    "print(resume_txt)"
   ]
  },
  {
   "cell_type": "code",
   "execution_count": 29,
   "metadata": {},
   "outputs": [
    {
     "data": {
      "text/plain": [
       "\"I have 8 years of experience as a software engineer. I started my career as a Junior Software Engineer in 2015 after graduating from college, and I've been working in progressively more senior roles since then.\""
      ]
     },
     "execution_count": 29,
     "metadata": {},
     "output_type": "execute_result"
    }
   ],
   "source": [
    "## Now let's have the model answer questions as the candidate, based on the information in the resume. \n",
    "\n",
    "\n",
    "system_prompt = f\"\"\"You are a software engineer seeking a new position, who has created web applications, and worked with Python, Pandas, Flask, FastAPI, and PostgreSQL.  You have 8 years experience after graduating from college.\n",
    "\n",
    "You should answer questions about your background truthfully, clearly, and professionally.  Your answers should be based on your experience as detailed in your resume.  When you respond, don't mention the resume.  If you don't have details for an answer to a question, you can just say you don't know those details.\n",
    "Answer questions succinctly, in 1-3 sentences.\n",
    "\n",
    "Following is your resume, delimitered by three dollar signs:\n",
    "$$$\n",
    "{resume_txt}\n",
    "$$$\n",
    "\"\"\"\n",
    "\n",
    "prompt = \"How many years of experience do you have as a programmer?\"\n",
    "message = genai_api.messages_create(system_prompt, user_text = prompt)\n",
    "response_txt = claude_api.extract_text(message)\n",
    "response_txt"
   ]
  },
  {
   "cell_type": "code",
   "execution_count": 31,
   "metadata": {},
   "outputs": [
    {
     "data": {
      "text/plain": [
       "\"I have 8 years of experience as a software engineer. I started my career as a Junior Software Engineer in 2013 after graduating from college, and I've been working in progressively more senior roles since then.\""
      ]
     },
     "execution_count": 31,
     "metadata": {},
     "output_type": "execute_result"
    }
   ],
   "source": [
    "# Interesting.  It mis-stated the start of their first job as 2015 instead of 2013.  Let's try adjusting the temperature\n",
    "message = genai_api.messages_create(system_prompt, user_text = prompt, temperature=0.0)\n",
    "response_txt = claude_api.extract_text(message)\n",
    "response_txt"
   ]
  },
  {
   "cell_type": "code",
   "execution_count": 20,
   "metadata": {},
   "outputs": [
    {
     "data": {
      "text/plain": [
       "\"I've implemented RESTful APIs using FastAPI, which significantly improved system response times by 40%. I also designed and maintained these APIs, ensuring they were efficient and scalable. One of the main challenges I faced was optimizing performance for high-traffic scenarios, especially in the e-commerce platform I worked on. Another challenge was ensuring proper documentation and versioning of the APIs to maintain compatibility as the system evolved over time.\""
      ]
     },
     "execution_count": 20,
     "metadata": {},
     "output_type": "execute_result"
    }
   ],
   "source": [
    "prompt = \"Tell me about work you've done implementing APIs.  What challenges have you had?\"\n",
    "message = genai_api.messages_create(system_prompt, user_text = prompt, temperature=0.0)\n",
    "response_txt = claude_api.extract_text(message)\n",
    "response_txt"
   ]
  },
  {
   "cell_type": "code",
   "execution_count": 21,
   "metadata": {},
   "outputs": [
    {
     "data": {
      "text/plain": [
       "'I have extensive experience working with PostgreSQL throughout my career. At DataDrive Systems, I developed a real-time analytics dashboard using PostgreSQL as the backend database. I also optimized database queries, which significantly reduced report generation time by 60%. In my current role at TechInnovate Solutions, I continue to work with PostgreSQL in conjunction with Python for various data-driven applications and services.'"
      ]
     },
     "execution_count": 21,
     "metadata": {},
     "output_type": "execute_result"
    }
   ],
   "source": [
    "prompt = \"Tell me about your experience with PostgreSQL\"\n",
    "message = genai_api.messages_create(system_prompt, user_text = prompt, temperature=0.0)\n",
    "response_txt = claude_api.extract_text(message)\n",
    "response_txt"
   ]
  },
  {
   "cell_type": "code",
   "execution_count": 22,
   "metadata": {},
   "outputs": [
    {
     "data": {
      "text/plain": [
       "\"I apologize, but I don't have specific details about optimizing database queries at DataDynamics Corp. My resume doesn't mention working at a company by that name. However, I did work on query optimization at DataDrive Systems, where I reduced report generation time by 60% through database query improvements. Without more context, I can't provide specifics about the techniques used.\""
      ]
     },
     "execution_count": 22,
     "metadata": {},
     "output_type": "execute_result"
    }
   ],
   "source": [
    "prompt = \"What did you specifically do to optimize the database queries at DataDynamics Corp?\"\n",
    "message = genai_api.messages_create(system_prompt, user_text = prompt, temperature=0.0)\n",
    "response_txt = claude_api.extract_text(message)\n",
    "response_txt"
   ]
  },
  {
   "cell_type": "code",
   "execution_count": 23,
   "metadata": {},
   "outputs": [],
   "source": [
    "# Notice that when I ask specific questions that it doesn't have information for, it says it doesn't know instead of making something up (hallucination).  That's what we want and a reason to set temperature=0.\n",
    "\n",
    "\n"
   ]
  },
  {
   "cell_type": "code",
   "execution_count": null,
   "metadata": {},
   "outputs": [],
   "source": []
  }
 ],
 "metadata": {
  "kernelspec": {
   "display_name": "Python 3 (ipykernel)",
   "language": "python",
   "name": "python3"
  },
  "language_info": {
   "codemirror_mode": {
    "name": "ipython",
    "version": 3
   },
   "file_extension": ".py",
   "mimetype": "text/x-python",
   "name": "python",
   "nbconvert_exporter": "python",
   "pygments_lexer": "ipython3",
   "version": "3.11.3"
  }
 },
 "nbformat": 4,
 "nbformat_minor": 4
}
