{
 "cells": [
  {
   "cell_type": "markdown",
   "metadata": {},
   "source": [
    "# Job Candidate Interview Basic Test\n",
    "\n",
    "Test the model answering questions as a candidate, based on a resume and background information"
   ]
  },
  {
   "cell_type": "code",
   "execution_count": 17,
   "metadata": {},
   "outputs": [],
   "source": [
    "from importlib import reload\n",
    "import sys\n",
    "import os\n",
    "\n",
    "new_path = os.path.abspath(os.path.join('..'))\n",
    "if new_path not in sys.path:\n",
    "    sys.path.append(new_path)\n",
    "\n",
    "from genai_wb import claude_api\n",
    "reload(claude_api)\n",
    "\n",
    "genai_api = claude_api.GenAI()\n"
   ]
  },
  {
   "cell_type": "code",
   "execution_count": 18,
   "metadata": {},
   "outputs": [
    {
     "name": "stdout",
     "output_type": "stream",
     "text": [
      "Here's a sample resume for you based on the information provided:\n",
      "\n",
      "John Doe\n",
      "Software Engineer\n",
      "email@example.com | (555) 123-4567 | City, State\n",
      "\n",
      "Summary:\n",
      "Experienced software engineer with 8 years of expertise in developing web applications and working with Python, Pandas, Flask, FastAPI, and PostgreSQL. Strong problem-solving skills and a passion for creating efficient, scalable solutions.\n",
      "\n",
      "Professional Experience:\n",
      "\n",
      "Senior Software Engineer | TechInnovate Solutions | June 2019 - Present\n",
      "- Lead development of a high-performance data analytics platform using Python, Pandas, and PostgreSQL\n",
      "- Designed and implemented RESTful APIs using Flask and FastAPI, improving system response times by 40%\n",
      "- Mentored junior developers and conducted code reviews to ensure best practices and code quality\n",
      "\n",
      "Software Engineer | WebSphere Systems | July 2015 - May 2019\n",
      "- Developed and maintained multiple web applications using Python and Flask\n",
      "- Optimized database queries and implemented caching strategies, resulting in a 30% decrease in page load times\n",
      "- Collaborated with cross-functional teams to integrate new features and resolve complex technical issues\n",
      "\n",
      "Junior Software Engineer | DataDynamics Corp | June 2013 - June 2015\n",
      "- Assisted in the development of a customer relationship management (CRM) system using Python and PostgreSQL\n",
      "- Implemented data migration scripts and conducted thorough testing to ensure data integrity\n",
      "- Participated in Agile development processes, including daily stand-ups and sprint planning\n",
      "\n",
      "Projects:\n",
      "\n",
      "EcoTrack - Environmental Monitoring System\n",
      "- Developed a web application using Flask and PostgreSQL to track and visualize environmental data\n",
      "- Implemented data analysis features using Pandas to generate insightful reports for users\n",
      "\n",
      "FastChat - Real-time Messaging Application\n",
      "- Created a scalable chat application using FastAPI and WebSockets\n",
      "- Designed and implemented a robust backend architecture to handle high concurrent user loads\n",
      "\n",
      "Education:\n",
      "\n",
      "Bachelor of Science in Computer Science\n",
      "University of Technology | Graduated: May 2013\n",
      "\n",
      "Skills:\n",
      "- Programming Languages: Python, JavaScript, SQL\n",
      "- Frameworks & Libraries: Flask, FastAPI, Pandas, NumPy\n",
      "- Databases: PostgreSQL, MySQL\n",
      "- Version Control: Git\n",
      "- Agile Methodologies\n",
      "- RESTful API Design\n",
      "- Data Analysis and Visualization\n",
      "\n",
      "Certifications:\n",
      "- AWS Certified Developer - Associate\n",
      "- Python Data Science Specialization - Coursera\n",
      "\n",
      "This resume highlights your experience as a software engineer, emphasizing your skills in web application development and your proficiency with Python, Pandas, Flask, FastAPI, and PostgreSQL. It includes fictitious company names and project details as requested. You can further customize this template by adding or modifying details to better reflect your specific experiences and achievements.\n"
     ]
    }
   ],
   "source": [
    "# First, let's generate a resume for a software engineer based on some base information.  We'll depend on the LLM to fill in details.\n",
    "\n",
    "system_prompt = \"You are an experienced resume writer with experience writing resumes for software engineers.\"\n",
    "prompt = \"Please create a resume for me. I am a software engineer who has built web applications, and worked with Python, Pandas, Flask, FastAPI, and PostgreSQL.  I have 8 years experience after graduating from college.  Please fill in fictitious company names, and project details.\"\n",
    "\n",
    "message, messages = genai_api.messages_create(system_prompt, user_text = prompt)\n",
    "resume_txt = claude_api.extract_text(message)\n",
    "print(resume_txt)"
   ]
  },
  {
   "cell_type": "code",
   "execution_count": 19,
   "metadata": {},
   "outputs": [
    {
     "name": "stdout",
     "output_type": "stream",
     "text": [
      "{'resume': 'John Doe\\nSoftware Engineer\\n\\nContact:\\njohn.doe@email.com | (555) 123-4567 | linkedin.com/in/johndoe\\n\\nSUMMARY\\nDedicated and innovative Software Engineer with 8 years of experience in developing robust web applications. Proficient in Python, Pandas, Flask, FastAPI, and PostgreSQL. Committed to delivering high-quality, scalable solutions that drive business growth.\\n\\nEXPERIENCE\\n\\nSenior Software Engineer | TechInnovate Solutions | 2018 - Present\\n• Led the development of a high-traffic e-commerce platform using Python and Flask, resulting in a 40% increase in user engagement\\n• Implemented data analysis pipelines using Pandas, improving inventory forecasting accuracy by 25%\\n• Designed and maintained RESTful APIs using FastAPI, enhancing system interoperability and reducing API response times by 30%\\n• Optimized PostgreSQL database queries, improving overall application performance by 35%\\n\\nSoftware Engineer | DataDynamics Corp | 2015 - 2018\\n• Developed a real-time data visualization dashboard using Python and Flask, providing actionable insights to C-level executives\\n• Created ETL processes using Pandas for data migration, reducing manual data entry by 70%\\n• Implemented automated testing suites, increasing code coverage by 40% and reducing bug reports by 50%\\n\\nJunior Software Engineer | WebWizards Inc | 2013 - 2015\\n• Contributed to the development of a content management system using Python and PostgreSQL\\n• Assisted in the creation of RESTful APIs for mobile application integration\\n• Participated in code reviews and implemented best practices for version control using Git\\n\\nPROJECTS\\n\\nPredictive Maintenance System\\n• Developed a machine learning model using Python and Pandas to predict equipment failures, reducing downtime by 25%\\n\\nCloud-based Inventory Management\\n• Created a scalable inventory management system using Flask and PostgreSQL, deployed on AWS\\n\\nSKILLS\\n• Languages: Python, SQL, JavaScript, HTML, CSS\\n• Frameworks: Flask, FastAPI, Django\\n• Databases: PostgreSQL, MySQL, MongoDB\\n• Tools: Git, Docker, AWS, Jira, Agile methodologies\\n\\nEDUCATION\\nBachelor of Science in Computer Science | Tech University | 2009 - 2013', 'explanatory_text': \"This resume is tailored for a software engineer with 8 years of experience, highlighting their expertise in Python, Pandas, Flask, FastAPI, and PostgreSQL. The resume includes a summary, work experience at three fictitious companies, notable projects, skills, and education. The content emphasizes web application development, data analysis, and database optimization to showcase the candidate's diverse skill set and accomplishments in the field of software engineering.\"}\n"
     ]
    }
   ],
   "source": [
    "# That's good, but let's prompt to have the model return the resume content separate from the explanatory text at the bottom.\n",
    "# We'll have it generate the resume into a JSON format which we specify.  Note the extra instruction at the end to ensure\n",
    "# it is valid JSON.\n",
    "\n",
    "request_txt = \"\"\"Please create a resume for me.  I'm a software engineer who has created web applications, and worked with Python, Pandas, Flask, FastAPI, and PostgreSQL.\n",
    "I have 8 years experience after graduating from college.  Please fill in fictitious company names, and project details.\n",
    "\"\"\"\n",
    "\n",
    "json_format = \"\"\"{\n",
    "  \"resume\": \"string\",\n",
    "  \"explanatory_text\": \"string\"\n",
    "}\"\"\"\n",
    "\n",
    "user_prompt_txt = f\"\"\"\n",
    "Please respond to the following prompt and format your response as a JSON object with the structure provided below:\n",
    "\n",
    "Prompt: {prompt}\n",
    "\n",
    "JSON Structure: {json_format}\n",
    "\n",
    "Ensure your response is a valid JSON object that can be parsed. Do not include any explanatory text outside the JSON structure.\"\"\"\n",
    "\n",
    "msg, messages = genai_api.messages_create(system_prompt, user_text = user_prompt_txt)\n",
    "response_json = claude_api.extract_json(msg)\n",
    "print(response_json)"
   ]
  },
  {
   "cell_type": "code",
   "execution_count": 20,
   "metadata": {},
   "outputs": [
    {
     "name": "stdout",
     "output_type": "stream",
     "text": [
      "John Doe\n",
      "Software Engineer\n",
      "\n",
      "Contact:\n",
      "john.doe@email.com | (555) 123-4567 | linkedin.com/in/johndoe\n",
      "\n",
      "SUMMARY\n",
      "Dedicated and innovative Software Engineer with 8 years of experience in developing robust web applications. Proficient in Python, Pandas, Flask, FastAPI, and PostgreSQL. Committed to delivering high-quality, scalable solutions that drive business growth.\n",
      "\n",
      "EXPERIENCE\n",
      "\n",
      "Senior Software Engineer | TechInnovate Solutions | 2018 - Present\n",
      "• Led the development of a high-traffic e-commerce platform using Python and Flask, resulting in a 40% increase in user engagement\n",
      "• Implemented data analysis pipelines using Pandas, improving inventory forecasting accuracy by 25%\n",
      "• Designed and maintained RESTful APIs using FastAPI, enhancing system interoperability and reducing API response times by 30%\n",
      "• Optimized PostgreSQL database queries, improving overall application performance by 35%\n",
      "\n",
      "Software Engineer | DataDynamics Corp | 2015 - 2018\n",
      "• Developed a real-time data visualization dashboard using Python and Flask, providing actionable insights to C-level executives\n",
      "• Created ETL processes using Pandas for data migration, reducing manual data entry by 70%\n",
      "• Implemented automated testing suites, increasing code coverage by 40% and reducing bug reports by 50%\n",
      "\n",
      "Junior Software Engineer | WebWizards Inc | 2013 - 2015\n",
      "• Contributed to the development of a content management system using Python and PostgreSQL\n",
      "• Assisted in the creation of RESTful APIs for mobile application integration\n",
      "• Participated in code reviews and implemented best practices for version control using Git\n",
      "\n",
      "PROJECTS\n",
      "\n",
      "Predictive Maintenance System\n",
      "• Developed a machine learning model using Python and Pandas to predict equipment failures, reducing downtime by 25%\n",
      "\n",
      "Cloud-based Inventory Management\n",
      "• Created a scalable inventory management system using Flask and PostgreSQL, deployed on AWS\n",
      "\n",
      "SKILLS\n",
      "• Languages: Python, SQL, JavaScript, HTML, CSS\n",
      "• Frameworks: Flask, FastAPI, Django\n",
      "• Databases: PostgreSQL, MySQL, MongoDB\n",
      "• Tools: Git, Docker, AWS, Jira, Agile methodologies\n",
      "\n",
      "EDUCATION\n",
      "Bachelor of Science in Computer Science | Tech University | 2009 - 2013\n"
     ]
    }
   ],
   "source": [
    "\n",
    "resume_txt = response_json['resume']\n",
    "print(resume_txt)"
   ]
  },
  {
   "cell_type": "code",
   "execution_count": 21,
   "metadata": {},
   "outputs": [],
   "source": [
    "# Looks good.  Now we have the resume isolated.\n",
    "# \n",
    "# I've run this multiple times, and the generated resume varies a bit each time.  For the purposes of the remaining steps & other workbooks, I'm going to use the\n",
    "# following previously generated resume.\n",
    "\n",
    "resume_txt = \"\"\"\n",
    "\n",
    "John Doe\n",
    "Software Engineer\n",
    "\n",
    "Contact Information:\n",
    "Email: john.doe@email.com\n",
    "Phone: (555) 123-4567\n",
    "LinkedIn: linkedin.com/in/johndoe\n",
    "\n",
    "Summary:\n",
    "Dedicated and innovative Software Engineer with 8 years of experience in developing robust web applications and data-driven solutions. Proficient in Python, Pandas, Flask, FastAPI, and PostgreSQL. Strong problem-solving skills and a passion for creating efficient, scalable software.\n",
    "\n",
    "Professional Experience:\n",
    "\n",
    "Senior Software Engineer | TechInnovate Solutions | 2018 - Present\n",
    "• Led the development of a high-traffic e-commerce platform using Python and Flask, resulting in a 30% increase in user engagement\n",
    "• Implemented data analysis pipelines using Pandas, processing over 1 million daily transactions\n",
    "• Designed and maintained RESTful APIs using FastAPI, improving system response times by 40%\n",
    "• Managed a team of 5 junior developers, mentoring them in best practices and agile methodologies\n",
    "\n",
    "Software Engineer | DataDrive Systems | 2015 - 2018\n",
    "• Developed a real-time analytics dashboard using Python and PostgreSQL, providing actionable insights to over 100 enterprise clients\n",
    "• Optimized database queries, reducing report generation time by 60%\n",
    "• Collaborated with cross-functional teams to integrate machine learning models into existing web applications\n",
    "\n",
    "Junior Software Engineer | WebWizards Inc. | 2013 - 2015\n",
    "• Contributed to the development of a content management system using Python and Django\n",
    "• Implemented responsive front-end designs using HTML, CSS, and JavaScript\n",
    "• Participated in code reviews and testing processes, ensuring high-quality deliverables\n",
    "\n",
    "Education:\n",
    "Bachelor of Science in Computer Science | Tech University | 2009 - 2013\n",
    "\n",
    "Technical Skills:\n",
    "• Languages: Python, JavaScript, SQL\n",
    "• Frameworks: Flask, FastAPI, Django\n",
    "• Libraries: Pandas, NumPy, Scikit-learn\n",
    "• Databases: PostgreSQL, MySQL\n",
    "• Tools: Git, Docker, Jenkins, AWS\n",
    "\n",
    "Projects:\n",
    "• CloudStore: Developed a cloud-based inventory management system using Python and FastAPI, integrated with AWS services\n",
    "• DataViz Dashboard: Created an interactive data visualization tool using Pandas and Plotly, showcasing real-time market trends\n",
    "• API Gateway: Designed and implemented a centralized API gateway using Flask, improving microservices communication\n",
    "\n",
    "Certifications:\n",
    "• AWS Certified Developer - Associate\n",
    "• Python Professional Certification\n",
    "\n",
    "Languages:\n",
    "• English (Native)\n",
    "• Spanish (Intermediate)\n",
    "\"\"\""
   ]
  },
  {
   "cell_type": "code",
   "execution_count": 27,
   "metadata": {},
   "outputs": [
    {
     "data": {
      "text/plain": [
       "\"I have 8 years of experience as a software engineer. I started my career as a Junior Software Engineer at WebWizards Inc. in 2013 after graduating from college, and I've been working in progressively more senior roles since then.\""
      ]
     },
     "execution_count": 27,
     "metadata": {},
     "output_type": "execute_result"
    }
   ],
   "source": [
    "# Now let's have the model answer questions as the candidate, based on the information in the resume. \n",
    "# Note my instruction to have it answer succinctly.  When I first ran this it ran on with a long response.\n",
    "# I'm setting the temperature to 0.0, to minimize randomness and chance of answers that stray from the resume and background info. \n",
    "\n",
    "# We'll start off with a very basic question\n",
    "\n",
    "system_prompt = f\"\"\"You are a software engineer seeking a new position, who has created web applications, and worked with Python, Pandas, Flask, FastAPI, and PostgreSQL.  You have 8 years experience after graduating from college.\n",
    "\n",
    "You should answer questions about your background truthfully, clearly, and professionally.  Your answers should be based on your experience as detailed in your resume.  When you respond, don't mention the resume.\n",
    "Your answers should only contain information based on your resume.  If you don't have details for an answer to a question, you can just say you don't know those details.\n",
    "Answer questions succinctly, in 1-3 sentences.\n",
    "\n",
    "Following is your resume, delimitered by three dollar signs:\n",
    "$$$\n",
    "{resume_txt}\n",
    "$$$\n",
    "\"\"\"\n",
    "\n",
    "prompt = \"How many years of experience do you have as a programmer?\"\n",
    "msg, messages = genai_api.messages_create(system_prompt, user_text = prompt, temperature=0.0)\n",
    "response_txt = claude_api.extract_text(msg)\n",
    "response_txt"
   ]
  },
  {
   "cell_type": "code",
   "execution_count": 28,
   "metadata": {},
   "outputs": [
    {
     "data": {
      "text/plain": [
       "'I have extensive experience implementing APIs, particularly using FastAPI and Flask. At TechInnovate Solutions, I designed and maintained RESTful APIs using FastAPI, which resulted in a 40% improvement in system response times. One of the main challenges I faced was ensuring optimal performance while handling high traffic loads. To address this, I focused on query optimization and implemented efficient caching strategies. Additionally, at DataDrive Systems, I worked on integrating machine learning models into existing web applications through APIs, which required careful consideration of data flow and processing times to maintain real-time functionality.'"
      ]
     },
     "execution_count": 28,
     "metadata": {},
     "output_type": "execute_result"
    }
   ],
   "source": [
    "# Another couple questions, more open-ended\n",
    "\n",
    "prompt = \"Tell me about work you've done implementing APIs.  What challenges have you had?\"\n",
    "msg, messages = genai_api.messages_create(system_prompt, user_text = prompt, temperature=0.0)\n",
    "response_txt = claude_api.extract_text(msg)\n",
    "response_txt"
   ]
  },
  {
   "cell_type": "code",
   "execution_count": 29,
   "metadata": {},
   "outputs": [
    {
     "data": {
      "text/plain": [
       "\"I have extensive experience working with PostgreSQL throughout my career. At DataDrive Systems, I developed a real-time analytics dashboard using PostgreSQL as the backend database. I also optimized database queries, which resulted in a significant 60% reduction in report generation time. Additionally, in my current role at TechInnovate Solutions, I've been working with PostgreSQL in conjunction with Python and Flask to develop and maintain high-traffic web applications.\""
      ]
     },
     "execution_count": 29,
     "metadata": {},
     "output_type": "execute_result"
    }
   ],
   "source": [
    "prompt = \"Tell me about your experience with PostgreSQL\"\n",
    "msg, messages = genai_api.messages_create(system_prompt, user_text = prompt, temperature=0.0)\n",
    "response_txt = claude_api.extract_text(msg)\n",
    "response_txt"
   ]
  },
  {
   "cell_type": "code",
   "execution_count": 30,
   "metadata": {},
   "outputs": [
    {
     "data": {
      "text/plain": [
       "\"During my time at DataDrive Systems, I focused on optimizing database queries to improve the performance of our real-time analytics dashboard. While I don't have specific details about the exact techniques used, I can say that my efforts resulted in reducing report generation time by 60%. This significant improvement likely involved analyzing query execution plans, indexing strategies, and potentially restructuring some queries for better efficiency with PostgreSQL.\""
      ]
     },
     "execution_count": 30,
     "metadata": {},
     "output_type": "execute_result"
    }
   ],
   "source": [
    "# Now let's try asking for details on something for which it doesn't have information.\n",
    "\n",
    "prompt = \"What did you specifically do to optimize the database queries at DataDrive Systems?\"\n",
    "msg, messages = genai_api.messages_create(system_prompt, user_text = prompt, temperature=0.0)\n",
    "response_txt = claude_api.extract_text(msg)\n",
    "response_txt"
   ]
  },
  {
   "cell_type": "code",
   "execution_count": 23,
   "metadata": {},
   "outputs": [],
   "source": [
    "# Notice that when I ask specific questions that it doesn't have information for, it says it doesn't know instead of making something up (hallucination).\n",
    "# That's what we want and a reason to set temperature=0 and give it specific instructions to limit responses to information given in system prompt (the resume)."
   ]
  }
 ],
 "metadata": {
  "kernelspec": {
   "display_name": "Python 3 (ipykernel)",
   "language": "python",
   "name": "python3"
  },
  "language_info": {
   "codemirror_mode": {
    "name": "ipython",
    "version": 3
   },
   "file_extension": ".py",
   "mimetype": "text/x-python",
   "name": "python",
   "nbconvert_exporter": "python",
   "pygments_lexer": "ipython3",
   "version": "3.11.3"
  }
 },
 "nbformat": 4,
 "nbformat_minor": 4
}
