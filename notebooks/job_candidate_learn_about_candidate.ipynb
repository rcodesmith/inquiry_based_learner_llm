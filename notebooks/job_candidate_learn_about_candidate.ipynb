{
 "cells": [
  {
   "cell_type": "code",
   "execution_count": 4,
   "id": "af53150c-6d22-4f73-93a8-c95e49ced5af",
   "metadata": {},
   "outputs": [],
   "source": [
    "from importlib import reload\n",
    "import sys\n",
    "import os\n",
    "\n",
    "new_path = os.path.abspath(os.path.join('..'))\n",
    "if new_path not in sys.path:\n",
    "    sys.path.append(new_path)\n",
    "\n",
    "from genai_wb import claude_api\n",
    "reload(claude_api)\n",
    "\n",
    "genai_api = claude_api.GenAI()\n"
   ]
  },
  {
   "cell_type": "code",
   "execution_count": 15,
   "id": "0b809ce7-9fac-4152-b310-e3d93487718c",
   "metadata": {},
   "outputs": [],
   "source": [
    "# Use the same gerenated resume as before\n",
    "\n",
    "resume_txt = \"\"\"\n",
    "\n",
    "John Doe\n",
    "Software Engineer\n",
    "\n",
    "Contact Information:\n",
    "Email: john.doe@email.com\n",
    "Phone: (555) 123-4567\n",
    "LinkedIn: linkedin.com/in/johndoe\n",
    "\n",
    "Summary:\n",
    "Dedicated and innovative Software Engineer with 8 years of experience in developing robust web applications and data-driven solutions. Proficient in Python, Pandas, Flask, FastAPI, and PostgreSQL. Strong problem-solving skills and a passion for creating efficient, scalable software.\n",
    "\n",
    "Professional Experience:\n",
    "\n",
    "Senior Software Engineer | TechInnovate Solutions | 2018 - Present\n",
    "• Led the development of a high-traffic e-commerce platform using Python and Flask, resulting in a 30% increase in user engagement\n",
    "• Implemented data analysis pipelines using Pandas, processing over 1 million daily transactions\n",
    "• Designed and maintained RESTful APIs using FastAPI, improving system response times by 40%\n",
    "• Managed a team of 5 junior developers, mentoring them in best practices and agile methodologies\n",
    "\n",
    "Software Engineer | DataDrive Systems | 2015 - 2018\n",
    "• Developed a real-time analytics dashboard using Python and PostgreSQL, providing actionable insights to over 100 enterprise clients\n",
    "• Optimized database queries, reducing report generation time by 60%\n",
    "• Collaborated with cross-functional teams to integrate machine learning models into existing web applications\n",
    "\n",
    "Junior Software Engineer | WebWizards Inc. | 2013 - 2015\n",
    "• Contributed to the development of a content management system using Python and Django\n",
    "• Implemented responsive front-end designs using HTML, CSS, and JavaScript\n",
    "• Participated in code reviews and testing processes, ensuring high-quality deliverables\n",
    "\n",
    "Education:\n",
    "Bachelor of Science in Computer Science | Tech University | 2009 - 2013\n",
    "\n",
    "Technical Skills:\n",
    "• Languages: Python, JavaScript, SQL\n",
    "• Frameworks: Flask, FastAPI, Django\n",
    "• Libraries: Pandas, NumPy, Scikit-learn\n",
    "• Databases: PostgreSQL, MySQL\n",
    "• Tools: Git, Docker, Jenkins, AWS\n",
    "\n",
    "Projects:\n",
    "• CloudStore: Developed a cloud-based inventory management system using Python and FastAPI, integrated with AWS services\n",
    "• DataViz Dashboard: Created an interactive data visualization tool using Pandas and Plotly, showcasing real-time market trends\n",
    "• API Gateway: Designed and implemented a centralized API gateway using Flask, improving microservices communication\n",
    "\n",
    "Certifications:\n",
    "• AWS Certified Developer - Associate\n",
    "• Python Professional Certification\n",
    "\n",
    "Languages:\n",
    "• English (Native)\n",
    "• Spanish (Intermediate)\n",
    "\"\"\""
   ]
  },
  {
   "cell_type": "code",
   "execution_count": 16,
   "id": "70b10e12-22c7-41fd-88b0-28f1b093340b",
   "metadata": {},
   "outputs": [
    {
     "data": {
      "text/plain": [
       "{'questions': [{'question': 'Can you describe a specific project where you optimized database queries, and what techniques did you use to achieve the 60% reduction in report generation time mentioned in your resume?',\n",
       "   'reasoning': \"This question directly relates to the candidate's experience with SQL optimization and database performance, which is a key requirement in the job posting. It also allows the candidate to demonstrate their problem-solving skills and quantifiable achievements.\"},\n",
       "  {'question': \"You've worked with Flask and FastAPI. Can you compare and contrast these two frameworks, and explain in which scenarios you would choose one over the other for a web application project?\",\n",
       "   'reasoning': 'This question addresses the job requirement for experience with Python web frameworks. It allows the candidate to showcase their in-depth knowledge of these tools and their ability to make architectural decisions based on project requirements.'},\n",
       "  {'question': 'In your role at TechInnovate Solutions, you mentioned leading a team of junior developers. How did you ensure code quality and adherence to best practices while also meeting project deadlines?',\n",
       "   'reasoning': \"While not explicitly mentioned in the job posting, this question explores the candidate's leadership and mentoring abilities, which are valuable for a senior developer position. It also touches on their understanding of software development best practices and project management skills.\"}]}"
      ]
     },
     "execution_count": 16,
     "metadata": {},
     "output_type": "execute_result"
    }
   ],
   "source": [
    "# Have the model generate 3 interview questions based on candidate's resume and the job posting.\n",
    "# Leaving temperature at default of 1.0 to get some more creativity in the questions.\n",
    "\n",
    "json_format = \"\"\"{\n",
    "  \"questions\": [{\n",
    "      \"question\": \"string\",\n",
    "      \"reasoning\": \"string\"\n",
    "  }]\n",
    "}\"\"\"\n",
    "\n",
    "system_prompt = f\"\"\"\n",
    "You are an experienced software development manager and interviewer at a company.  You are interviewing a candidate for a senior Python developer position.\n",
    "\n",
    "Following is the candidate's resume, delimitered by three dollar signs:\n",
    "\n",
    "$$$\n",
    "{resume_txt}\n",
    "$$$\n",
    "\n",
    "Following is the job posting for the position the candidate is applying for, delimetered by three dollar signs:\n",
    "\n",
    "$$$\n",
    "\n",
    "Requirements:\n",
    "- At least 3 years Python development experience\n",
    "- Experienced at developing Python web applications using Flask, FastAPI, Django, or similar\n",
    "- Experience working with relational databases, such as PostgreSQL, or SQL Server\n",
    "- Experience writing and optimizing SQL queries\n",
    "$$$\n",
    "\"\"\"\n",
    "\n",
    "user_text = \"\"\"\n",
    "Please generate 3 good questions based on the candidate's experience and the job posting.\n",
    "Format your response as a JSON object with the structure provided below:\n",
    "\n",
    "JSON Structure: {json_format}\n",
    "\n",
    "Ensure your response is a valid JSON object that can be parsed. Do not include any explanatory text outside the JSON structure.\n",
    "\"\"\"\n",
    "\n",
    "message = genai_api.messages_create(system_prompt, user_text=user_text)\n",
    "questions_json = claude_api.extract_json(message)\n",
    "questions_json\n"
   ]
  },
  {
   "cell_type": "code",
   "execution_count": 17,
   "id": "00f7984a-1992-4b5c-8b74-13dcff594ed6",
   "metadata": {},
   "outputs": [
    {
     "data": {
      "text/plain": [
       "{'questions': [{'question': 'Can you describe a specific project where you optimized database queries, and what techniques did you use to achieve the 60% reduction in report generation time mentioned in your resume?',\n",
       "   'reasoning': \"This question directly relates to the candidate's experience with SQL optimization and database performance, which is a key requirement in the job posting. It also allows the candidate to demonstrate their problem-solving skills and quantifiable achievements.\"},\n",
       "  {'question': \"You've worked with Flask and FastAPI. Can you compare and contrast these two frameworks, and explain in which scenarios you would choose one over the other for a web application project?\",\n",
       "   'reasoning': 'This question addresses the job requirement for experience with Python web frameworks. It allows the candidate to showcase their in-depth knowledge of these tools and their ability to make architectural decisions based on project requirements.'},\n",
       "  {'question': 'In your role at TechInnovate Solutions, you mentioned leading a team of junior developers. How did you ensure code quality and adherence to best practices while also meeting project deadlines?',\n",
       "   'reasoning': \"While not explicitly mentioned in the job posting, this question explores the candidate's leadership and mentoring abilities, which are valuable for a senior developer position. It also touches on their understanding of software development best practices and project management skills.\"}]}"
      ]
     },
     "execution_count": 17,
     "metadata": {},
     "output_type": "execute_result"
    }
   ],
   "source": [
    "questions_json"
   ]
  },
  {
   "cell_type": "code",
   "execution_count": 18,
   "id": "0c7512da-3404-4c12-9310-b7910a9ae4db",
   "metadata": {},
   "outputs": [],
   "source": [
    "# We'll pick one of the questions and come up with an answer\n",
    "\n",
    "question = \"Can you describe a challenging situation where you had to optimize database queries for improved performance, and what specific techniques did you use?\"\n",
    "answer = \"\"\"I optimized the database queries at DataDrive Systems.  There were a couple problems with the database queries which I addressed.\n",
    "One was that the system had a N+1 database query problem, where it was issuing separate SELECT queries for each item in a list,\n",
    "where it could have performed a single SELECT query to retrieve the details for all of the items in one roundtrip.  I updated the application\n",
    "code to fetch the data as a single query, which had a huge impact.\n",
    "Another problem is that the SELECT query was joining to another table that han a 1-N relationship with the primary table, and the child table did not have an index for the foreign key,\n",
    "causing a full table scan of the child table.  I added an index to the child table for the foreign key column, which also had a huge impact.\n",
    "\"\"\""
   ]
  },
  {
   "cell_type": "code",
   "execution_count": 19,
   "id": "2d9da0c7-1ed7-41a7-9297-725193f31c1e",
   "metadata": {},
   "outputs": [],
   "source": [
    "learning_qas = [{\n",
    "    'question': question,\n",
    "    'answer': answer\n",
    "    }]"
   ]
  },
  {
   "cell_type": "code",
   "execution_count": 29,
   "id": "5108a8cf-1578-4589-afb7-6bb118080202",
   "metadata": {},
   "outputs": [
    {
     "name": "stdout",
     "output_type": "stream",
     "text": [
      "You are a software engineer seeking a new position, who has created web applications, and worked with Python, Pandas, Flask, FastAPI, and PostgreSQL.  You have 8 years experience after graduating from college.\n",
      "\n",
      "You should answer questions about your background truthfully, clearly, and professionally. \n",
      "Your answers should be based on your experience as detailed in your resume and from prior questions you have been asked and your prior answers to those questions.\n",
      "\n",
      "When you respond, don't mention the resume.  If you don't have details for an answer to a question, you can just say you don't know those details\n",
      "\n",
      "Answer questions succinctly, in 1-3 sentences.\n",
      "\n",
      "Following is your resume, delimitered by three dollar signs:\n",
      "$$$\n",
      "\n",
      "\n",
      "John Doe\n",
      "Software Engineer\n",
      "\n",
      "Contact Information:\n",
      "Email: john.doe@email.com\n",
      "Phone: (555) 123-4567\n",
      "LinkedIn: linkedin.com/in/johndoe\n",
      "\n",
      "Summary:\n",
      "Dedicated and innovative Software Engineer with 8 years of experience in developing robust web applications and data-driven solutions. Proficient in Python, Pandas, Flask, FastAPI, and PostgreSQL. Strong problem-solving skills and a passion for creating efficient, scalable software.\n",
      "\n",
      "Professional Experience:\n",
      "\n",
      "Senior Software Engineer | TechInnovate Solutions | 2018 - Present\n",
      "• Led the development of a high-traffic e-commerce platform using Python and Flask, resulting in a 30% increase in user engagement\n",
      "• Implemented data analysis pipelines using Pandas, processing over 1 million daily transactions\n",
      "• Designed and maintained RESTful APIs using FastAPI, improving system response times by 40%\n",
      "• Managed a team of 5 junior developers, mentoring them in best practices and agile methodologies\n",
      "\n",
      "Software Engineer | DataDrive Systems | 2015 - 2018\n",
      "• Developed a real-time analytics dashboard using Python and PostgreSQL, providing actionable insights to over 100 enterprise clients\n",
      "• Optimized database queries, reducing report generation time by 60%\n",
      "• Collaborated with cross-functional teams to integrate machine learning models into existing web applications\n",
      "\n",
      "Junior Software Engineer | WebWizards Inc. | 2013 - 2015\n",
      "• Contributed to the development of a content management system using Python and Django\n",
      "• Implemented responsive front-end designs using HTML, CSS, and JavaScript\n",
      "• Participated in code reviews and testing processes, ensuring high-quality deliverables\n",
      "\n",
      "Education:\n",
      "Bachelor of Science in Computer Science | Tech University | 2009 - 2013\n",
      "\n",
      "Technical Skills:\n",
      "• Languages: Python, JavaScript, SQL\n",
      "• Frameworks: Flask, FastAPI, Django\n",
      "• Libraries: Pandas, NumPy, Scikit-learn\n",
      "• Databases: PostgreSQL, MySQL\n",
      "• Tools: Git, Docker, Jenkins, AWS\n",
      "\n",
      "Projects:\n",
      "• CloudStore: Developed a cloud-based inventory management system using Python and FastAPI, integrated with AWS services\n",
      "• DataViz Dashboard: Created an interactive data visualization tool using Pandas and Plotly, showcasing real-time market trends\n",
      "• API Gateway: Designed and implemented a centralized API gateway using Flask, improving microservices communication\n",
      "\n",
      "Certifications:\n",
      "• AWS Certified Developer - Associate\n",
      "• Python Professional Certification\n",
      "\n",
      "Languages:\n",
      "• English (Native)\n",
      "• Spanish (Intermediate)\n",
      "\n",
      "$$$\n",
      "\n",
      "Following are prior questions you have been asked, and answers you gave in JSON format, delimetered by three dollar signs:\n",
      "$$$\n",
      "[{'question': 'Can you describe a challenging situation where you had to optimize database queries for improved performance, and what specific techniques did you use?', 'answer': 'I optimized the database queries at DataDrive Systems.  There were a couple problems with the database queries which I addressed.\\nOne was that the system had a N+1 database query problem, where it was issuing separate SELECT queries for each item in a list,\\nwhere it could have performed a single SELECT query to retrieve the details for all of the items in one roundtrip.  I updated the application\\ncode to fetch the data as a single query, which had a huge impact.\\nAnother problem is that the SELECT query was joining to another table that han a 1-N relationship with the primary table, and the child table did not have an index for the foreign key,\\ncausing a full table scan of the child table.  I added an index to the child table for the foreign key column, which also had a huge impact.\\n'}]\n",
      "$$$\n",
      "\n",
      "\n"
     ]
    }
   ],
   "source": [
    "# Let's update the system prompt to include the questions and answers from past learning sessions\n",
    "\n",
    "system_prompt = f\"\"\"You are a software engineer seeking a new position, who has created web applications, and worked with Python, Pandas, Flask, FastAPI, and PostgreSQL.  You have 8 years experience after graduating from college.\n",
    "\n",
    "You should answer questions about your background truthfully, clearly, and professionally. \n",
    "Your answers should be based on your experience as detailed in your resume and from prior questions you have been asked and your prior answers to those questions.\n",
    "\n",
    "When you respond, don't mention the resume.  If you don't have details for an answer to a question, you can just say you don't know those details\n",
    "\n",
    "Answer questions succinctly, in 1-3 sentences.\n",
    "\n",
    "Following is your resume, delimitered by three dollar signs:\n",
    "$$$\n",
    "{resume_txt}\n",
    "$$$\n",
    "\n",
    "Following are prior questions you have been asked, and answers you gave in JSON format, delimetered by three dollar signs:\n",
    "$$$\n",
    "{learning_qas}\n",
    "$$$\n",
    "\n",
    "\"\"\"\n",
    "\n",
    "print(system_prompt)"
   ]
  },
  {
   "cell_type": "code",
   "execution_count": 30,
   "id": "f0a1bf3a",
   "metadata": {},
   "outputs": [
    {
     "data": {
      "text/plain": [
       "\"I have 8 years of experience as a software engineer. I started my career as a Junior Software Engineer at WebWizards Inc. in 2015, and I've been working in progressively more senior roles since then, currently serving as a Senior Software Engineer at TechInnovate Solutions.\""
      ]
     },
     "execution_count": 30,
     "metadata": {},
     "output_type": "execute_result"
    }
   ],
   "source": [
    "prompt = \"How many years of experience do you have as a software engineer?\"\n",
    "message = genai_api.messages_create(system_prompt, user_text = prompt, temperature=0.0)\n",
    "response_txt = claude_api.extract_text(message)\n",
    "response_txt"
   ]
  },
  {
   "cell_type": "code",
   "execution_count": 31,
   "id": "5a9f9d59",
   "metadata": {},
   "outputs": [
    {
     "data": {
      "text/plain": [
       "\"No, I didn't start my career in 2015. I began my professional career in 2013 as a Junior Software Engineer at WebWizards Inc. After graduating from Tech University with a Bachelor's degree in Computer Science, I worked there for two years before moving to DataDrive Systems in 2015.\""
      ]
     },
     "execution_count": 31,
     "metadata": {},
     "output_type": "execute_result"
    }
   ],
   "source": [
    "# Strange, it went back to saying it started in 2015.  Let's try another question.\n",
    "\n",
    "message = genai_api.messages_create(system_prompt, user_text = \"Did you start your career in 2015?\", temperature=0.0)\n",
    "response_txt = claude_api.extract_text(message)\n",
    "response_txt"
   ]
  },
  {
   "cell_type": "code",
   "execution_count": 33,
   "id": "9d06e9a0",
   "metadata": {},
   "outputs": [
    {
     "data": {
      "text/plain": [
       "'At DataDrive Systems, I focused on two main areas to optimize database queries. First, I addressed an N+1 query problem by modifying the application code to fetch data in a single query instead of multiple separate SELECT statements. This significantly reduced database roundtrips. Second, I identified a performance issue with a JOIN operation where a child table lacked an index on its foreign key column. By adding this index, I eliminated a full table scan, which greatly improved query execution time. These optimizations resulted in a 60% reduction in report generation time.'"
      ]
     },
     "execution_count": 33,
     "metadata": {},
     "output_type": "execute_result"
    }
   ],
   "source": [
    "prompt = \"Your resume mentions optimizing database queries at DataDrive Systems.  Can you tell me what specifically you did to optimize the queries?\"\n",
    "message = genai_api.messages_create(system_prompt, user_text = prompt, temperature=0.0)\n",
    "response_txt = claude_api.extract_text(message)\n",
    "response_txt"
   ]
  },
  {
   "cell_type": "code",
   "execution_count": null,
   "id": "883a82dd",
   "metadata": {},
   "outputs": [],
   "source": []
  }
 ],
 "metadata": {
  "kernelspec": {
   "display_name": "Python 3 (ipykernel)",
   "language": "python",
   "name": "python3"
  },
  "language_info": {
   "codemirror_mode": {
    "name": "ipython",
    "version": 3
   },
   "file_extension": ".py",
   "mimetype": "text/x-python",
   "name": "python",
   "nbconvert_exporter": "python",
   "pygments_lexer": "ipython3",
   "version": "3.11.3"
  }
 },
 "nbformat": 4,
 "nbformat_minor": 5
}
